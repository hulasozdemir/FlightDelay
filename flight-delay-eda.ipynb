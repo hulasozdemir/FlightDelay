{
 "cells": [
  {
   "cell_type": "code",
   "execution_count": 1,
   "id": "d33cf654",
   "metadata": {
    "_cell_guid": "b1076dfc-b9ad-4769-8c92-a6c4dae69d19",
    "_uuid": "8f2839f25d086af736a60e9eeb907d3b93b6e0e5",
    "execution": {
     "iopub.execute_input": "2022-10-25T02:23:49.166626Z",
     "iopub.status.busy": "2022-10-25T02:23:49.166199Z",
     "iopub.status.idle": "2022-10-25T02:23:49.175799Z",
     "shell.execute_reply": "2022-10-25T02:23:49.174904Z"
    },
    "papermill": {
     "duration": 0.022627,
     "end_time": "2022-10-25T02:23:49.178111",
     "exception": false,
     "start_time": "2022-10-25T02:23:49.155484",
     "status": "completed"
    },
    "tags": []
   },
   "outputs": [],
   "source": [
    "import numpy as np\n",
    "import pandas as pd # data processing, CSV file I/O (e.g. pd.read_csv)\n",
    "import os"
   ]
  },
  {
   "cell_type": "code",
   "execution_count": 2,
   "id": "94747e5b",
   "metadata": {
    "execution": {
     "iopub.execute_input": "2022-10-25T02:23:49.194821Z",
     "iopub.status.busy": "2022-10-25T02:23:49.194196Z",
     "iopub.status.idle": "2022-10-25T02:23:49.198053Z",
     "shell.execute_reply": "2022-10-25T02:23:49.197291Z"
    },
    "papermill": {
     "duration": 0.014661,
     "end_time": "2022-10-25T02:23:49.200232",
     "exception": false,
     "start_time": "2022-10-25T02:23:49.185571",
     "status": "completed"
    },
    "tags": []
   },
   "outputs": [],
   "source": [
    "#!pip3 install OSMPythonTools"
   ]
  },
  {
   "cell_type": "code",
   "execution_count": 3,
   "id": "751fac61",
   "metadata": {
    "execution": {
     "iopub.execute_input": "2022-10-25T02:23:49.216449Z",
     "iopub.status.busy": "2022-10-25T02:23:49.215754Z",
     "iopub.status.idle": "2022-10-25T02:23:50.359194Z",
     "shell.execute_reply": "2022-10-25T02:23:50.357546Z"
    },
    "papermill": {
     "duration": 1.15479,
     "end_time": "2022-10-25T02:23:50.362247",
     "exception": false,
     "start_time": "2022-10-25T02:23:49.207457",
     "status": "completed"
    },
    "tags": []
   },
   "outputs": [
    {
     "name": "stdout",
     "output_type": "stream",
     "text": [
      "Combined_Flights_2018.parquet\r\n",
      "Combined_Flights_2019.parquet\r\n",
      "Combined_Flights_2020.parquet\r\n",
      "Combined_Flights_2021.parquet\r\n",
      "Combined_Flights_2022.parquet\r\n"
     ]
    }
   ],
   "source": [
    "!ls ../input/flight-delay-dataset-20182022/ | grep parquet"
   ]
  },
  {
   "cell_type": "code",
   "execution_count": 4,
   "id": "7d7ffbfa",
   "metadata": {
    "execution": {
     "iopub.execute_input": "2022-10-25T02:23:50.379649Z",
     "iopub.status.busy": "2022-10-25T02:23:50.379012Z",
     "iopub.status.idle": "2022-10-25T02:23:50.390927Z",
     "shell.execute_reply": "2022-10-25T02:23:50.389953Z"
    },
    "papermill": {
     "duration": 0.023757,
     "end_time": "2022-10-25T02:23:50.393361",
     "exception": false,
     "start_time": "2022-10-25T02:23:50.369604",
     "status": "completed"
    },
    "tags": []
   },
   "outputs": [],
   "source": [
    "columns_interested = ['Airline', 'Origin', 'Dest', 'Cancelled', 'Diverted', 'DepDelayMinutes',\n",
    "       'ArrDelayMinutes','Distance', 'Year', 'Month', 'DayofMonth', 'DayOfWeek','Tail_Number']"
   ]
  },
  {
   "cell_type": "code",
   "execution_count": 5,
   "id": "c0189f84",
   "metadata": {
    "execution": {
     "iopub.execute_input": "2022-10-25T02:23:50.410016Z",
     "iopub.status.busy": "2022-10-25T02:23:50.409654Z",
     "iopub.status.idle": "2022-10-25T02:24:23.827422Z",
     "shell.execute_reply": "2022-10-25T02:24:23.826200Z"
    },
    "papermill": {
     "duration": 33.429187,
     "end_time": "2022-10-25T02:24:23.830144",
     "exception": false,
     "start_time": "2022-10-25T02:23:50.400957",
     "status": "completed"
    },
    "tags": []
   },
   "outputs": [],
   "source": [
    "years = [2018, 2019, 2020, 2021, 2022]\n",
    "allFlights = []\n",
    "for year in years:\n",
    "    fileName = f\"Combined_Flights_{year}\"\n",
    "    directoryName = \"/kaggle/input/flight-delay-dataset-20182022/\"+fileName+\".parquet\"\n",
    "    allFlights.append(pd.read_parquet(directoryName,columns = columns_interested))\n",
    "df = pd.concat(allFlights).reset_index(drop=True)\n",
    "df = df.dropna()\n",
    "del allFlights"
   ]
  },
  {
   "cell_type": "code",
   "execution_count": 6,
   "id": "b7faea1a",
   "metadata": {
    "execution": {
     "iopub.execute_input": "2022-10-25T02:24:23.854099Z",
     "iopub.status.busy": "2022-10-25T02:24:23.853686Z",
     "iopub.status.idle": "2022-10-25T02:24:34.846714Z",
     "shell.execute_reply": "2022-10-25T02:24:34.845434Z"
    },
    "papermill": {
     "duration": 11.01187,
     "end_time": "2022-10-25T02:24:34.849497",
     "exception": false,
     "start_time": "2022-10-25T02:24:23.837627",
     "status": "completed"
    },
    "tags": []
   },
   "outputs": [],
   "source": [
    "df['Airline'] =  df['Airline'].astype(dtype='string')\n",
    "df['Origin'] =  df['Origin'].astype(dtype='string')\n",
    "df['Dest'] =  df['Dest'].astype(dtype='string')\n",
    "df['Tail_Number'] =  df['Tail_Number'].astype(dtype='string')"
   ]
  },
  {
   "cell_type": "code",
   "execution_count": 7,
   "id": "a63b4008",
   "metadata": {
    "execution": {
     "iopub.execute_input": "2022-10-25T02:24:34.866220Z",
     "iopub.status.busy": "2022-10-25T02:24:34.865780Z",
     "iopub.status.idle": "2022-10-25T02:24:34.876807Z",
     "shell.execute_reply": "2022-10-25T02:24:34.875658Z"
    },
    "papermill": {
     "duration": 0.022249,
     "end_time": "2022-10-25T02:24:34.879206",
     "exception": false,
     "start_time": "2022-10-25T02:24:34.856957",
     "status": "completed"
    },
    "tags": []
   },
   "outputs": [
    {
     "data": {
      "text/plain": [
       "Airline             string\n",
       "Origin              string\n",
       "Dest                string\n",
       "Cancelled             bool\n",
       "Diverted              bool\n",
       "DepDelayMinutes    float64\n",
       "ArrDelayMinutes    float64\n",
       "Distance           float64\n",
       "Year                 int64\n",
       "Month                int64\n",
       "DayofMonth           int64\n",
       "DayOfWeek            int64\n",
       "Tail_Number         string\n",
       "dtype: object"
      ]
     },
     "execution_count": 7,
     "metadata": {},
     "output_type": "execute_result"
    }
   ],
   "source": [
    "df.dtypes"
   ]
  },
  {
   "cell_type": "markdown",
   "id": "9afb6fb1",
   "metadata": {
    "papermill": {
     "duration": 0.007068,
     "end_time": "2022-10-25T02:24:34.893644",
     "exception": false,
     "start_time": "2022-10-25T02:24:34.886576",
     "status": "completed"
    },
    "tags": []
   },
   "source": [
    "## Both arrival and departures delays have exponential distributions."
   ]
  },
  {
   "cell_type": "code",
   "execution_count": 8,
   "id": "dcab5337",
   "metadata": {
    "execution": {
     "iopub.execute_input": "2022-10-25T02:24:34.909850Z",
     "iopub.status.busy": "2022-10-25T02:24:34.909399Z",
     "iopub.status.idle": "2022-10-25T02:24:38.688186Z",
     "shell.execute_reply": "2022-10-25T02:24:38.687324Z"
    },
    "papermill": {
     "duration": 3.789395,
     "end_time": "2022-10-25T02:24:38.690365",
     "exception": false,
     "start_time": "2022-10-25T02:24:34.900970",
     "status": "completed"
    },
    "tags": []
   },
   "outputs": [
    {
     "data": {
      "text/plain": [
       "<AxesSubplot:title={'center':'Arrival Delays'}, ylabel='Frequency'>"
      ]
     },
     "execution_count": 8,
     "metadata": {},
     "output_type": "execute_result"
    },
    {
     "data": {
      "image/png": "[encoded data removed]",
      "text/plain": [
       "<Figure size 432x288 with 1 Axes>"
      ]
     },
     "metadata": {
      "needs_background": "light"
     },
     "output_type": "display_data"
    }
   ],
   "source": [
    "df.loc[(df['ArrDelayMinutes'] > 0.0) & (df['ArrDelayMinutes'] < 120.0)]['ArrDelayMinutes'].plot(kind='hist',bins=120, title=\"Arrival Delays\")"
   ]
  },
  {
   "cell_type": "code",
   "execution_count": 9,
   "id": "cc139864",
   "metadata": {
    "execution": {
     "iopub.execute_input": "2022-10-25T02:24:38.707912Z",
     "iopub.status.busy": "2022-10-25T02:24:38.707326Z",
     "iopub.status.idle": "2022-10-25T02:24:41.252826Z",
     "shell.execute_reply": "2022-10-25T02:24:41.251500Z"
    },
    "papermill": {
     "duration": 2.557131,
     "end_time": "2022-10-25T02:24:41.255383",
     "exception": false,
     "start_time": "2022-10-25T02:24:38.698252",
     "status": "completed"
    },
    "tags": []
   },
   "outputs": [
    {
     "data": {
      "text/plain": [
       "<AxesSubplot:title={'center':'Departure Delays'}, ylabel='Frequency'>"
      ]
     },
     "execution_count": 9,
     "metadata": {},
     "output_type": "execute_result"
    },
    {
     "data": {
      "image/png": "[encoded data removed]",
      "text/plain": [
       "<Figure size 432x288 with 1 Axes>"
      ]
     },
     "metadata": {
      "needs_background": "light"
     },
     "output_type": "display_data"
    }
   ],
   "source": [
    "df.loc[(df['DepDelayMinutes'] > 15.0) & (df['DepDelayMinutes'] < 180.0)]['DepDelayMinutes'].plot(kind='hist',bins=165,title=\"Departure Delays\")"
   ]
  },
  {
   "cell_type": "markdown",
   "id": "46fa7b03",
   "metadata": {
    "papermill": {
     "duration": 0.007968,
     "end_time": "2022-10-25T02:24:41.271698",
     "exception": false,
     "start_time": "2022-10-25T02:24:41.263730",
     "status": "completed"
    },
    "tags": []
   },
   "source": [
    "According to FAA a flight is considered to be delayed when it is 15 minutes later than its scheduled time."
   ]
  },
  {
   "cell_type": "markdown",
   "id": "07630e33",
   "metadata": {
    "papermill": {
     "duration": 0.007827,
     "end_time": "2022-10-25T02:24:41.287713",
     "exception": false,
     "start_time": "2022-10-25T02:24:41.279886",
     "status": "completed"
    },
    "tags": []
   },
   "source": [
    "# Q: Which airports had the longest arrival and departure delays?"
   ]
  },
  {
   "cell_type": "code",
   "execution_count": 10,
   "id": "247bad77",
   "metadata": {
    "execution": {
     "iopub.execute_input": "2022-10-25T02:24:41.306107Z",
     "iopub.status.busy": "2022-10-25T02:24:41.305724Z",
     "iopub.status.idle": "2022-10-25T02:24:43.767689Z",
     "shell.execute_reply": "2022-10-25T02:24:43.766904Z"
    },
    "papermill": {
     "duration": 2.473987,
     "end_time": "2022-10-25T02:24:43.769947",
     "exception": false,
     "start_time": "2022-10-25T02:24:41.295960",
     "status": "completed"
    },
    "tags": []
   },
   "outputs": [
    {
     "data": {
      "text/plain": [
       "<AxesSubplot:title={'center':'Airports with most delays between 2018 and 2022'}, ylabel='Origin'>"
      ]
     },
     "execution_count": 10,
     "metadata": {},
     "output_type": "execute_result"
    },
    {
     "data": {
      "image/png": "[encoded data removed]",
      "text/plain": [
       "<Figure size 720x720 with 1 Axes>"
      ]
     },
     "metadata": {
      "needs_background": "light"
     },
     "output_type": "display_data"
    }
   ],
   "source": [
    "_df = df.loc[(df['DepDelayMinutes']>=15.0)].groupby('Origin').size().sort_values(ascending=True)\n",
    "_df.tail(n=10).plot(kind = 'barh',figsize=(10,10), title=\"Airports with most delays between 2018 and 2022\", ylabel=\"Sum of all delays in minutes\")"
   ]
  },
  {
   "cell_type": "code",
   "execution_count": 11,
   "id": "89b290e1",
   "metadata": {
    "execution": {
     "iopub.execute_input": "2022-10-25T02:24:43.790028Z",
     "iopub.status.busy": "2022-10-25T02:24:43.789424Z",
     "iopub.status.idle": "2022-10-25T02:24:46.246968Z",
     "shell.execute_reply": "2022-10-25T02:24:46.246104Z"
    },
    "papermill": {
     "duration": 2.470661,
     "end_time": "2022-10-25T02:24:46.249336",
     "exception": false,
     "start_time": "2022-10-25T02:24:43.778675",
     "status": "completed"
    },
    "tags": []
   },
   "outputs": [
    {
     "data": {
      "text/plain": [
       "<AxesSubplot:title={'center':'Most arrival delays per airport'}, ylabel='Dest'>"
      ]
     },
     "execution_count": 11,
     "metadata": {},
     "output_type": "execute_result"
    },
    {
     "data": {
      "image/png": "[encoded data removed]",
      "text/plain": [
       "<Figure size 720x720 with 1 Axes>"
      ]
     },
     "metadata": {
      "needs_background": "light"
     },
     "output_type": "display_data"
    }
   ],
   "source": [
    "_df = df.loc[(df['ArrDelayMinutes']>=15.0)].groupby('Dest').size().sort_values(ascending=True)\n",
    "_df.tail(n=10).plot(kind = 'barh',figsize=(10,10), title=\"Most arrival delays per airport\")"
   ]
  },
  {
   "cell_type": "markdown",
   "id": "75db498d",
   "metadata": {
    "papermill": {
     "duration": 0.009316,
     "end_time": "2022-10-25T02:24:46.267989",
     "exception": false,
     "start_time": "2022-10-25T02:24:46.258673",
     "status": "completed"
    },
    "tags": []
   },
   "source": [
    "**Chicago O'Hare, Denver, Dallas, Atlanta** airports had the highest cumulative delays both in arrival and departure."
   ]
  },
  {
   "cell_type": "markdown",
   "id": "3c45ff40",
   "metadata": {
    "papermill": {
     "duration": 0.008589,
     "end_time": "2022-10-25T02:24:46.286078",
     "exception": false,
     "start_time": "2022-10-25T02:24:46.277489",
     "status": "completed"
    },
    "tags": []
   },
   "source": [
    "# Q: Which airports had the highest percentage of delayed arrival and departure flights?"
   ]
  },
  {
   "cell_type": "code",
   "execution_count": 12,
   "id": "6d907ded",
   "metadata": {
    "execution": {
     "iopub.execute_input": "2022-10-25T02:24:46.306812Z",
     "iopub.status.busy": "2022-10-25T02:24:46.306118Z",
     "iopub.status.idle": "2022-10-25T02:24:53.016568Z",
     "shell.execute_reply": "2022-10-25T02:24:53.015545Z"
    },
    "papermill": {
     "duration": 6.723802,
     "end_time": "2022-10-25T02:24:53.019241",
     "exception": false,
     "start_time": "2022-10-25T02:24:46.295439",
     "status": "completed"
    },
    "tags": []
   },
   "outputs": [],
   "source": [
    "df['ArrDelay15Min'] = (df['ArrDelayMinutes']>=15.0)#.groupby('Dest').size().sort_values(ascending=True)\n",
    "_df = df.groupby(['Dest','ArrDelay15Min']).size()\n",
    "_df = _df.to_frame(name = 'size').reset_index()\n",
    "_df['percentages'] = _df.groupby('Dest').apply(lambda x:100 * x / x.sum())['size']"
   ]
  },
  {
   "cell_type": "code",
   "execution_count": 13,
   "id": "61fb7253",
   "metadata": {
    "execution": {
     "iopub.execute_input": "2022-10-25T02:24:53.041253Z",
     "iopub.status.busy": "2022-10-25T02:24:53.040363Z",
     "iopub.status.idle": "2022-10-25T02:24:53.305724Z",
     "shell.execute_reply": "2022-10-25T02:24:53.304267Z"
    },
    "papermill": {
     "duration": 0.278657,
     "end_time": "2022-10-25T02:24:53.308493",
     "exception": false,
     "start_time": "2022-10-25T02:24:53.029836",
     "status": "completed"
    },
    "tags": []
   },
   "outputs": [
    {
     "data": {
      "text/plain": [
       "<AxesSubplot:ylabel='Arrivals'>"
      ]
     },
     "execution_count": 13,
     "metadata": {},
     "output_type": "execute_result"
    },
    {
     "data": {
      "image/png": "[encoded data removed]",
      "text/plain": [
       "<Figure size 432x288 with 1 Axes>"
      ]
     },
     "metadata": {
      "needs_background": "light"
     },
     "output_type": "display_data"
    }
   ],
   "source": [
    "_df.loc[_df['ArrDelay15Min']==True].sort_values(by='percentages',ascending=True).tail(10).plot(kind='barh', x='Dest',y='percentages',ylabel=\"Percentage of arrivals delayed\",xlabel=\"Arrivals\")"
   ]
  },
  {
   "cell_type": "code",
   "execution_count": 14,
   "id": "d135b7aa",
   "metadata": {
    "execution": {
     "iopub.execute_input": "2022-10-25T02:24:53.331178Z",
     "iopub.status.busy": "2022-10-25T02:24:53.330187Z",
     "iopub.status.idle": "2022-10-25T02:24:59.833052Z",
     "shell.execute_reply": "2022-10-25T02:24:59.831806Z"
    },
    "papermill": {
     "duration": 6.517556,
     "end_time": "2022-10-25T02:24:59.835943",
     "exception": false,
     "start_time": "2022-10-25T02:24:53.318387",
     "status": "completed"
    },
    "tags": []
   },
   "outputs": [],
   "source": [
    "df['DepDelay15Min'] = (df['DepDelayMinutes']>=15.0)\n",
    "_df = df.groupby(['Origin','DepDelay15Min']).size()\n",
    "_df = _df.to_frame(name = 'size').reset_index()\n",
    "_df['percentages'] = _df.groupby('Origin').apply(lambda x:100 * x / x.sum())['size']"
   ]
  },
  {
   "cell_type": "code",
   "execution_count": 15,
   "id": "d131f541",
   "metadata": {
    "execution": {
     "iopub.execute_input": "2022-10-25T02:24:59.858029Z",
     "iopub.status.busy": "2022-10-25T02:24:59.856975Z",
     "iopub.status.idle": "2022-10-25T02:25:00.120319Z",
     "shell.execute_reply": "2022-10-25T02:25:00.118687Z"
    },
    "papermill": {
     "duration": 0.277043,
     "end_time": "2022-10-25T02:25:00.123251",
     "exception": false,
     "start_time": "2022-10-25T02:24:59.846208",
     "status": "completed"
    },
    "tags": []
   },
   "outputs": [
    {
     "data": {
      "text/plain": [
       "<AxesSubplot:ylabel='Origin'>"
      ]
     },
     "execution_count": 15,
     "metadata": {},
     "output_type": "execute_result"
    },
    {
     "data": {
      "image/png": "[encoded data removed]",
      "text/plain": [
       "<Figure size 432x288 with 1 Axes>"
      ]
     },
     "metadata": {
      "needs_background": "light"
     },
     "output_type": "display_data"
    }
   ],
   "source": [
    "_df.loc[_df['DepDelay15Min']==True].sort_values(by='percentages',ascending=True).tail(10).plot(kind='barh', x='Origin',y='percentages',ylabel=\"Percentage of departures delayed\",xlabel=\"Origin\")"
   ]
  },
  {
   "cell_type": "markdown",
   "id": "f1b61763",
   "metadata": {
    "papermill": {
     "duration": 0.009971,
     "end_time": "2022-10-25T02:25:00.143463",
     "exception": false,
     "start_time": "2022-10-25T02:25:00.133492",
     "status": "completed"
    },
    "tags": []
   },
   "source": [
    "Most of these are small, regional airports."
   ]
  },
  {
   "cell_type": "markdown",
   "id": "73ce1a50",
   "metadata": {
    "papermill": {
     "duration": 0.009672,
     "end_time": "2022-10-25T02:25:00.163225",
     "exception": false,
     "start_time": "2022-10-25T02:25:00.153553",
     "status": "completed"
    },
    "tags": []
   },
   "source": [
    "# Q: Which airlines' flights were delayed for longest amount of time?"
   ]
  },
  {
   "cell_type": "code",
   "execution_count": 16,
   "id": "71a876f5",
   "metadata": {
    "execution": {
     "iopub.execute_input": "2022-10-25T02:25:00.186649Z",
     "iopub.status.busy": "2022-10-25T02:25:00.185663Z",
     "iopub.status.idle": "2022-10-25T02:25:02.768331Z",
     "shell.execute_reply": "2022-10-25T02:25:02.766944Z"
    },
    "papermill": {
     "duration": 2.597256,
     "end_time": "2022-10-25T02:25:02.770805",
     "exception": false,
     "start_time": "2022-10-25T02:25:00.173549",
     "status": "completed"
    },
    "tags": []
   },
   "outputs": [
    {
     "data": {
      "text/plain": [
       "<AxesSubplot:title={'center':'Carriers with most delays between 2018 and 2022'}, ylabel='Airline'>"
      ]
     },
     "execution_count": 16,
     "metadata": {},
     "output_type": "execute_result"
    },
    {
     "data": {
      "image/png": "[encoded data removed]",
      "text/plain": [
       "<Figure size 720x720 with 1 Axes>"
      ]
     },
     "metadata": {
      "needs_background": "light"
     },
     "output_type": "display_data"
    }
   ],
   "source": [
    "_df = df.loc[(df['DepDelayMinutes']>=15.0)].groupby('Airline')[\"DepDelayMinutes\"].sum().sort_values(ascending=True)\n",
    "_df.tail(n=10).plot(kind = 'barh',figsize=(10,10), title=\"Carriers with most delays between 2018 and 2022\", ylabel=\"Sum of all delays in minutes\")"
   ]
  },
  {
   "cell_type": "markdown",
   "id": "ad9e3581",
   "metadata": {
    "execution": {
     "iopub.execute_input": "2022-10-24T21:57:48.874417Z",
     "iopub.status.busy": "2022-10-24T21:57:48.874044Z",
     "iopub.status.idle": "2022-10-24T21:57:48.882901Z",
     "shell.execute_reply": "2022-10-24T21:57:48.882254Z",
     "shell.execute_reply.started": "2022-10-24T21:57:48.874385Z"
    },
    "papermill": {
     "duration": 0.009617,
     "end_time": "2022-10-25T02:25:02.790829",
     "exception": false,
     "start_time": "2022-10-25T02:25:02.781212",
     "status": "completed"
    },
    "tags": []
   },
   "source": [
    "# Q: Which airline was the most late?"
   ]
  },
  {
   "cell_type": "code",
   "execution_count": 17,
   "id": "637ce285",
   "metadata": {
    "execution": {
     "iopub.execute_input": "2022-10-25T02:25:02.813076Z",
     "iopub.status.busy": "2022-10-25T02:25:02.812444Z",
     "iopub.status.idle": "2022-10-25T02:25:05.285794Z",
     "shell.execute_reply": "2022-10-25T02:25:05.285016Z"
    },
    "papermill": {
     "duration": 2.487248,
     "end_time": "2022-10-25T02:25:05.288002",
     "exception": false,
     "start_time": "2022-10-25T02:25:02.800754",
     "status": "completed"
    },
    "tags": []
   },
   "outputs": [
    {
     "data": {
      "text/plain": [
       "<AxesSubplot:title={'center':'Carriers with most delays between 2018 and 2022'}, ylabel='Airline'>"
      ]
     },
     "execution_count": 17,
     "metadata": {},
     "output_type": "execute_result"
    },
    {
     "data": {
      "image/png": "[encoded data removed]",
      "text/plain": [
       "<Figure size 720x720 with 1 Axes>"
      ]
     },
     "metadata": {
      "needs_background": "light"
     },
     "output_type": "display_data"
    }
   ],
   "source": [
    "_df = df.loc[(df['DepDelayMinutes']>=15.0)].groupby('Airline')[\"DepDelayMinutes\"].count().sort_values(ascending=True)\n",
    "_df.tail(n=10).plot(kind = 'barh',figsize=(10,10), title=\"Carriers with most delays between 2018 and 2022\", ylabel=\"Sum of all delays in minutes\")"
   ]
  },
  {
   "cell_type": "code",
   "execution_count": 18,
   "id": "6bbea18e",
   "metadata": {
    "execution": {
     "iopub.execute_input": "2022-10-25T02:25:05.314024Z",
     "iopub.status.busy": "2022-10-25T02:25:05.313363Z",
     "iopub.status.idle": "2022-10-25T02:25:11.971292Z",
     "shell.execute_reply": "2022-10-25T02:25:11.970454Z"
    },
    "papermill": {
     "duration": 6.673475,
     "end_time": "2022-10-25T02:25:11.973621",
     "exception": false,
     "start_time": "2022-10-25T02:25:05.300146",
     "status": "completed"
    },
    "tags": []
   },
   "outputs": [
    {
     "data": {
      "text/plain": [
       "<AxesSubplot:ylabel='Airline'>"
      ]
     },
     "execution_count": 18,
     "metadata": {},
     "output_type": "execute_result"
    },
    {
     "data": {
      "image/png": "[encoded data removed]",
      "text/plain": [
       "<Figure size 720x720 with 1 Axes>"
      ]
     },
     "metadata": {
      "needs_background": "light"
     },
     "output_type": "display_data"
    }
   ],
   "source": [
    "df['ArrDelay15Min'] = (df['ArrDelayMinutes']>=15.0)#.groupby('Dest').size().sort_values(ascending=True)\n",
    "_df = df.groupby(['Airline','ArrDelay15Min']).size()\n",
    "_df = _df.to_frame(name = 'size').reset_index()\n",
    "_df['percentages'] = _df.groupby('Airline').apply(lambda x:100 * x / x.sum())['size']\n",
    "_df.loc[_df['ArrDelay15Min']==True].sort_values(by='percentages',ascending=True).tail(10).plot(kind='barh', x='Airline',y='percentages',ylabel=\"Percentage of arrivals delayed\",xlabel=\"Airline\",figsize=(10,10))"
   ]
  },
  {
   "cell_type": "code",
   "execution_count": 19,
   "id": "eb350d0d",
   "metadata": {
    "execution": {
     "iopub.execute_input": "2022-10-25T02:25:11.997897Z",
     "iopub.status.busy": "2022-10-25T02:25:11.997227Z",
     "iopub.status.idle": "2022-10-25T02:25:19.064064Z",
     "shell.execute_reply": "2022-10-25T02:25:19.063185Z"
    },
    "papermill": {
     "duration": 7.081635,
     "end_time": "2022-10-25T02:25:19.066352",
     "exception": false,
     "start_time": "2022-10-25T02:25:11.984717",
     "status": "completed"
    },
    "tags": []
   },
   "outputs": [
    {
     "data": {
      "text/plain": [
       "<AxesSubplot:ylabel='Airline'>"
      ]
     },
     "execution_count": 19,
     "metadata": {},
     "output_type": "execute_result"
    },
    {
     "data": {
      "image/png": "[encoded data removed]",
      "text/plain": [
       "<Figure size 720x720 with 1 Axes>"
      ]
     },
     "metadata": {
      "needs_background": "light"
     },
     "output_type": "display_data"
    }
   ],
   "source": [
    "df['DeptDelay15Min'] = (df['DepDelayMinutes']>=15.0)#.groupby('Dest').size().sort_values(ascending=True)\n",
    "_df = df.groupby(['Airline','DeptDelay15Min']).size()\n",
    "_df = _df.to_frame(name = 'size').reset_index()\n",
    "_df['percentages'] = _df.groupby('Airline').apply(lambda x:100 * x / x.sum())['size']\n",
    "_df.loc[_df['DeptDelay15Min']==True].sort_values(by='percentages',ascending=True).tail(10).plot(kind='barh', x='Airline',y='percentages',ylabel=\"Percentage of departures delayed\",xlabel=\"Airline\",figsize=(10,10))"
   ]
  },
  {
   "cell_type": "code",
   "execution_count": 20,
   "id": "e61a1323",
   "metadata": {
    "execution": {
     "iopub.execute_input": "2022-10-25T02:25:19.092042Z",
     "iopub.status.busy": "2022-10-25T02:25:19.091010Z",
     "iopub.status.idle": "2022-10-25T02:25:21.910221Z",
     "shell.execute_reply": "2022-10-25T02:25:21.909011Z"
    },
    "papermill": {
     "duration": 2.834923,
     "end_time": "2022-10-25T02:25:21.913052",
     "exception": false,
     "start_time": "2022-10-25T02:25:19.078129",
     "status": "completed"
    },
    "tags": []
   },
   "outputs": [
    {
     "data": {
      "text/html": [
       "<div>\n",
       "<style scoped>\n",
       "    .dataframe tbody tr th:only-of-type {\n",
       "        vertical-align: middle;\n",
       "    }\n",
       "\n",
       "    .dataframe tbody tr th {\n",
       "        vertical-align: top;\n",
       "    }\n",
       "\n",
       "    .dataframe thead th {\n",
       "        text-align: right;\n",
       "    }\n",
       "</style>\n",
       "<table border=\"1\" class=\"dataframe\">\n",
       "  <thead>\n",
       "    <tr style=\"text-align: right;\">\n",
       "      <th></th>\n",
       "      <th>Origin</th>\n",
       "      <th>Cancelled</th>\n",
       "      <th>Diverted</th>\n",
       "      <th>DepDelayMinutes</th>\n",
       "      <th>ArrDelayMinutes</th>\n",
       "      <th>Distance</th>\n",
       "      <th>Year</th>\n",
       "      <th>Month</th>\n",
       "      <th>DayofMonth</th>\n",
       "      <th>DayOfWeek</th>\n",
       "      <th>ArrDelay15Min</th>\n",
       "      <th>DepDelay15Min</th>\n",
       "      <th>DeptDelay15Min</th>\n",
       "    </tr>\n",
       "  </thead>\n",
       "  <tbody>\n",
       "    <tr>\n",
       "      <th>0</th>\n",
       "      <td>ABE</td>\n",
       "      <td>0</td>\n",
       "      <td>0</td>\n",
       "      <td>299116.0</td>\n",
       "      <td>281973.0</td>\n",
       "      <td>2036598.0</td>\n",
       "      <td>6574305</td>\n",
       "      <td>20836</td>\n",
       "      <td>51826</td>\n",
       "      <td>13239</td>\n",
       "      <td>2678</td>\n",
       "      <td>3255</td>\n",
       "      <td>3255</td>\n",
       "    </tr>\n",
       "    <tr>\n",
       "      <th>1</th>\n",
       "      <td>ABI</td>\n",
       "      <td>0</td>\n",
       "      <td>0</td>\n",
       "      <td>93032.0</td>\n",
       "      <td>91271.0</td>\n",
       "      <td>182144.0</td>\n",
       "      <td>2221910</td>\n",
       "      <td>7337</td>\n",
       "      <td>16839</td>\n",
       "      <td>4306</td>\n",
       "      <td>965</td>\n",
       "      <td>1100</td>\n",
       "      <td>1100</td>\n",
       "    </tr>\n",
       "    <tr>\n",
       "      <th>2</th>\n",
       "      <td>ABQ</td>\n",
       "      <td>0</td>\n",
       "      <td>0</td>\n",
       "      <td>976719.0</td>\n",
       "      <td>911132.0</td>\n",
       "      <td>9739540.0</td>\n",
       "      <td>29323486</td>\n",
       "      <td>95399</td>\n",
       "      <td>233833</td>\n",
       "      <td>58752</td>\n",
       "      <td>11613</td>\n",
       "      <td>14519</td>\n",
       "      <td>14519</td>\n",
       "    </tr>\n",
       "    <tr>\n",
       "      <th>3</th>\n",
       "      <td>ABR</td>\n",
       "      <td>0</td>\n",
       "      <td>0</td>\n",
       "      <td>46344.0</td>\n",
       "      <td>43606.0</td>\n",
       "      <td>93291.0</td>\n",
       "      <td>733275</td>\n",
       "      <td>2488</td>\n",
       "      <td>5560</td>\n",
       "      <td>1436</td>\n",
       "      <td>299</td>\n",
       "      <td>363</td>\n",
       "      <td>363</td>\n",
       "    </tr>\n",
       "    <tr>\n",
       "      <th>4</th>\n",
       "      <td>ABY</td>\n",
       "      <td>0</td>\n",
       "      <td>0</td>\n",
       "      <td>40204.0</td>\n",
       "      <td>39357.0</td>\n",
       "      <td>59450.0</td>\n",
       "      <td>828144</td>\n",
       "      <td>2552</td>\n",
       "      <td>6194</td>\n",
       "      <td>1564</td>\n",
       "      <td>360</td>\n",
       "      <td>410</td>\n",
       "      <td>410</td>\n",
       "    </tr>\n",
       "    <tr>\n",
       "      <th>...</th>\n",
       "      <td>...</td>\n",
       "      <td>...</td>\n",
       "      <td>...</td>\n",
       "      <td>...</td>\n",
       "      <td>...</td>\n",
       "      <td>...</td>\n",
       "      <td>...</td>\n",
       "      <td>...</td>\n",
       "      <td>...</td>\n",
       "      <td>...</td>\n",
       "      <td>...</td>\n",
       "      <td>...</td>\n",
       "      <td>...</td>\n",
       "    </tr>\n",
       "    <tr>\n",
       "      <th>383</th>\n",
       "      <td>XWA</td>\n",
       "      <td>0</td>\n",
       "      <td>0</td>\n",
       "      <td>71080.0</td>\n",
       "      <td>68737.0</td>\n",
       "      <td>302656.0</td>\n",
       "      <td>1066917</td>\n",
       "      <td>3711</td>\n",
       "      <td>8181</td>\n",
       "      <td>2055</td>\n",
       "      <td>444</td>\n",
       "      <td>528</td>\n",
       "      <td>528</td>\n",
       "    </tr>\n",
       "    <tr>\n",
       "      <th>384</th>\n",
       "      <td>YAK</td>\n",
       "      <td>0</td>\n",
       "      <td>0</td>\n",
       "      <td>18338.0</td>\n",
       "      <td>19203.0</td>\n",
       "      <td>75009.0</td>\n",
       "      <td>733308</td>\n",
       "      <td>2378</td>\n",
       "      <td>5724</td>\n",
       "      <td>1509</td>\n",
       "      <td>337</td>\n",
       "      <td>363</td>\n",
       "      <td>363</td>\n",
       "    </tr>\n",
       "    <tr>\n",
       "      <th>385</th>\n",
       "      <td>YKM</td>\n",
       "      <td>0</td>\n",
       "      <td>0</td>\n",
       "      <td>28037.0</td>\n",
       "      <td>28038.0</td>\n",
       "      <td>55208.0</td>\n",
       "      <td>1082370</td>\n",
       "      <td>3318</td>\n",
       "      <td>8172</td>\n",
       "      <td>2074</td>\n",
       "      <td>486</td>\n",
       "      <td>536</td>\n",
       "      <td>536</td>\n",
       "    </tr>\n",
       "    <tr>\n",
       "      <th>386</th>\n",
       "      <td>YNG</td>\n",
       "      <td>0</td>\n",
       "      <td>0</td>\n",
       "      <td>126.0</td>\n",
       "      <td>150.0</td>\n",
       "      <td>1788.0</td>\n",
       "      <td>4036</td>\n",
       "      <td>2</td>\n",
       "      <td>5</td>\n",
       "      <td>5</td>\n",
       "      <td>1</td>\n",
       "      <td>2</td>\n",
       "      <td>2</td>\n",
       "    </tr>\n",
       "    <tr>\n",
       "      <th>387</th>\n",
       "      <td>YUM</td>\n",
       "      <td>0</td>\n",
       "      <td>0</td>\n",
       "      <td>82270.0</td>\n",
       "      <td>79958.0</td>\n",
       "      <td>239452.0</td>\n",
       "      <td>1434420</td>\n",
       "      <td>4409</td>\n",
       "      <td>11383</td>\n",
       "      <td>2804</td>\n",
       "      <td>641</td>\n",
       "      <td>710</td>\n",
       "      <td>710</td>\n",
       "    </tr>\n",
       "  </tbody>\n",
       "</table>\n",
       "<p>388 rows × 13 columns</p>\n",
       "</div>"
      ],
      "text/plain": [
       "    Origin  Cancelled  Diverted  DepDelayMinutes  ArrDelayMinutes   Distance  \\\n",
       "0      ABE          0         0         299116.0         281973.0  2036598.0   \n",
       "1      ABI          0         0          93032.0          91271.0   182144.0   \n",
       "2      ABQ          0         0         976719.0         911132.0  9739540.0   \n",
       "3      ABR          0         0          46344.0          43606.0    93291.0   \n",
       "4      ABY          0         0          40204.0          39357.0    59450.0   \n",
       "..     ...        ...       ...              ...              ...        ...   \n",
       "383    XWA          0         0          71080.0          68737.0   302656.0   \n",
       "384    YAK          0         0          18338.0          19203.0    75009.0   \n",
       "385    YKM          0         0          28037.0          28038.0    55208.0   \n",
       "386    YNG          0         0            126.0            150.0     1788.0   \n",
       "387    YUM          0         0          82270.0          79958.0   239452.0   \n",
       "\n",
       "         Year  Month  DayofMonth  DayOfWeek  ArrDelay15Min  DepDelay15Min  \\\n",
       "0     6574305  20836       51826      13239           2678           3255   \n",
       "1     2221910   7337       16839       4306            965           1100   \n",
       "2    29323486  95399      233833      58752          11613          14519   \n",
       "3      733275   2488        5560       1436            299            363   \n",
       "4      828144   2552        6194       1564            360            410   \n",
       "..        ...    ...         ...        ...            ...            ...   \n",
       "383   1066917   3711        8181       2055            444            528   \n",
       "384    733308   2378        5724       1509            337            363   \n",
       "385   1082370   3318        8172       2074            486            536   \n",
       "386      4036      2           5          5              1              2   \n",
       "387   1434420   4409       11383       2804            641            710   \n",
       "\n",
       "     DeptDelay15Min  \n",
       "0              3255  \n",
       "1              1100  \n",
       "2             14519  \n",
       "3               363  \n",
       "4               410  \n",
       "..              ...  \n",
       "383             528  \n",
       "384             363  \n",
       "385             536  \n",
       "386               2  \n",
       "387             710  \n",
       "\n",
       "[388 rows x 13 columns]"
      ]
     },
     "execution_count": 20,
     "metadata": {},
     "output_type": "execute_result"
    }
   ],
   "source": [
    "df.loc[(df['DepDelayMinutes']>=15.0)].groupby('Origin',as_index=False).sum()"
   ]
  },
  {
   "cell_type": "code",
   "execution_count": 21,
   "id": "f7df12b1",
   "metadata": {
    "execution": {
     "iopub.execute_input": "2022-10-25T02:25:21.940413Z",
     "iopub.status.busy": "2022-10-25T02:25:21.939994Z",
     "iopub.status.idle": "2022-10-25T02:25:24.630722Z",
     "shell.execute_reply": "2022-10-25T02:25:24.629517Z"
    },
    "papermill": {
     "duration": 2.707801,
     "end_time": "2022-10-25T02:25:24.633401",
     "exception": false,
     "start_time": "2022-10-25T02:25:21.925600",
     "status": "completed"
    },
    "tags": []
   },
   "outputs": [
    {
     "data": {
      "text/html": [
       "<div>\n",
       "<style scoped>\n",
       "    .dataframe tbody tr th:only-of-type {\n",
       "        vertical-align: middle;\n",
       "    }\n",
       "\n",
       "    .dataframe tbody tr th {\n",
       "        vertical-align: top;\n",
       "    }\n",
       "\n",
       "    .dataframe thead th {\n",
       "        text-align: right;\n",
       "    }\n",
       "</style>\n",
       "<table border=\"1\" class=\"dataframe\">\n",
       "  <thead>\n",
       "    <tr style=\"text-align: right;\">\n",
       "      <th></th>\n",
       "      <th>Origin</th>\n",
       "      <th>Cancelled</th>\n",
       "      <th>Diverted</th>\n",
       "      <th>DepDelayMinutes</th>\n",
       "      <th>ArrDelayMinutes</th>\n",
       "      <th>Distance</th>\n",
       "      <th>Year</th>\n",
       "      <th>Month</th>\n",
       "      <th>DayofMonth</th>\n",
       "      <th>DayOfWeek</th>\n",
       "      <th>ArrDelay15Min</th>\n",
       "      <th>DepDelay15Min</th>\n",
       "      <th>DeptDelay15Min</th>\n",
       "    </tr>\n",
       "  </thead>\n",
       "  <tbody>\n",
       "    <tr>\n",
       "      <th>0</th>\n",
       "      <td>ABE</td>\n",
       "      <td>0</td>\n",
       "      <td>0</td>\n",
       "      <td>299116.0</td>\n",
       "      <td>281973.0</td>\n",
       "      <td>2036598.0</td>\n",
       "      <td>6574305</td>\n",
       "      <td>20836</td>\n",
       "      <td>51826</td>\n",
       "      <td>13239</td>\n",
       "      <td>2678</td>\n",
       "      <td>3255</td>\n",
       "      <td>3255</td>\n",
       "    </tr>\n",
       "    <tr>\n",
       "      <th>1</th>\n",
       "      <td>ABI</td>\n",
       "      <td>0</td>\n",
       "      <td>0</td>\n",
       "      <td>93032.0</td>\n",
       "      <td>91271.0</td>\n",
       "      <td>182144.0</td>\n",
       "      <td>2221910</td>\n",
       "      <td>7337</td>\n",
       "      <td>16839</td>\n",
       "      <td>4306</td>\n",
       "      <td>965</td>\n",
       "      <td>1100</td>\n",
       "      <td>1100</td>\n",
       "    </tr>\n",
       "    <tr>\n",
       "      <th>2</th>\n",
       "      <td>ABQ</td>\n",
       "      <td>0</td>\n",
       "      <td>0</td>\n",
       "      <td>976719.0</td>\n",
       "      <td>911132.0</td>\n",
       "      <td>9739540.0</td>\n",
       "      <td>29323486</td>\n",
       "      <td>95399</td>\n",
       "      <td>233833</td>\n",
       "      <td>58752</td>\n",
       "      <td>11613</td>\n",
       "      <td>14519</td>\n",
       "      <td>14519</td>\n",
       "    </tr>\n",
       "    <tr>\n",
       "      <th>3</th>\n",
       "      <td>ABR</td>\n",
       "      <td>0</td>\n",
       "      <td>0</td>\n",
       "      <td>46344.0</td>\n",
       "      <td>43606.0</td>\n",
       "      <td>93291.0</td>\n",
       "      <td>733275</td>\n",
       "      <td>2488</td>\n",
       "      <td>5560</td>\n",
       "      <td>1436</td>\n",
       "      <td>299</td>\n",
       "      <td>363</td>\n",
       "      <td>363</td>\n",
       "    </tr>\n",
       "    <tr>\n",
       "      <th>4</th>\n",
       "      <td>ABY</td>\n",
       "      <td>0</td>\n",
       "      <td>0</td>\n",
       "      <td>40204.0</td>\n",
       "      <td>39357.0</td>\n",
       "      <td>59450.0</td>\n",
       "      <td>828144</td>\n",
       "      <td>2552</td>\n",
       "      <td>6194</td>\n",
       "      <td>1564</td>\n",
       "      <td>360</td>\n",
       "      <td>410</td>\n",
       "      <td>410</td>\n",
       "    </tr>\n",
       "    <tr>\n",
       "      <th>...</th>\n",
       "      <td>...</td>\n",
       "      <td>...</td>\n",
       "      <td>...</td>\n",
       "      <td>...</td>\n",
       "      <td>...</td>\n",
       "      <td>...</td>\n",
       "      <td>...</td>\n",
       "      <td>...</td>\n",
       "      <td>...</td>\n",
       "      <td>...</td>\n",
       "      <td>...</td>\n",
       "      <td>...</td>\n",
       "      <td>...</td>\n",
       "    </tr>\n",
       "    <tr>\n",
       "      <th>383</th>\n",
       "      <td>XWA</td>\n",
       "      <td>0</td>\n",
       "      <td>0</td>\n",
       "      <td>71080.0</td>\n",
       "      <td>68737.0</td>\n",
       "      <td>302656.0</td>\n",
       "      <td>1066917</td>\n",
       "      <td>3711</td>\n",
       "      <td>8181</td>\n",
       "      <td>2055</td>\n",
       "      <td>444</td>\n",
       "      <td>528</td>\n",
       "      <td>528</td>\n",
       "    </tr>\n",
       "    <tr>\n",
       "      <th>384</th>\n",
       "      <td>YAK</td>\n",
       "      <td>0</td>\n",
       "      <td>0</td>\n",
       "      <td>18338.0</td>\n",
       "      <td>19203.0</td>\n",
       "      <td>75009.0</td>\n",
       "      <td>733308</td>\n",
       "      <td>2378</td>\n",
       "      <td>5724</td>\n",
       "      <td>1509</td>\n",
       "      <td>337</td>\n",
       "      <td>363</td>\n",
       "      <td>363</td>\n",
       "    </tr>\n",
       "    <tr>\n",
       "      <th>385</th>\n",
       "      <td>YKM</td>\n",
       "      <td>0</td>\n",
       "      <td>0</td>\n",
       "      <td>28037.0</td>\n",
       "      <td>28038.0</td>\n",
       "      <td>55208.0</td>\n",
       "      <td>1082370</td>\n",
       "      <td>3318</td>\n",
       "      <td>8172</td>\n",
       "      <td>2074</td>\n",
       "      <td>486</td>\n",
       "      <td>536</td>\n",
       "      <td>536</td>\n",
       "    </tr>\n",
       "    <tr>\n",
       "      <th>386</th>\n",
       "      <td>YNG</td>\n",
       "      <td>0</td>\n",
       "      <td>0</td>\n",
       "      <td>126.0</td>\n",
       "      <td>150.0</td>\n",
       "      <td>1788.0</td>\n",
       "      <td>4036</td>\n",
       "      <td>2</td>\n",
       "      <td>5</td>\n",
       "      <td>5</td>\n",
       "      <td>1</td>\n",
       "      <td>2</td>\n",
       "      <td>2</td>\n",
       "    </tr>\n",
       "    <tr>\n",
       "      <th>387</th>\n",
       "      <td>YUM</td>\n",
       "      <td>0</td>\n",
       "      <td>0</td>\n",
       "      <td>82270.0</td>\n",
       "      <td>79958.0</td>\n",
       "      <td>239452.0</td>\n",
       "      <td>1434420</td>\n",
       "      <td>4409</td>\n",
       "      <td>11383</td>\n",
       "      <td>2804</td>\n",
       "      <td>641</td>\n",
       "      <td>710</td>\n",
       "      <td>710</td>\n",
       "    </tr>\n",
       "  </tbody>\n",
       "</table>\n",
       "<p>388 rows × 13 columns</p>\n",
       "</div>"
      ],
      "text/plain": [
       "    Origin  Cancelled  Diverted  DepDelayMinutes  ArrDelayMinutes   Distance  \\\n",
       "0      ABE          0         0         299116.0         281973.0  2036598.0   \n",
       "1      ABI          0         0          93032.0          91271.0   182144.0   \n",
       "2      ABQ          0         0         976719.0         911132.0  9739540.0   \n",
       "3      ABR          0         0          46344.0          43606.0    93291.0   \n",
       "4      ABY          0         0          40204.0          39357.0    59450.0   \n",
       "..     ...        ...       ...              ...              ...        ...   \n",
       "383    XWA          0         0          71080.0          68737.0   302656.0   \n",
       "384    YAK          0         0          18338.0          19203.0    75009.0   \n",
       "385    YKM          0         0          28037.0          28038.0    55208.0   \n",
       "386    YNG          0         0            126.0            150.0     1788.0   \n",
       "387    YUM          0         0          82270.0          79958.0   239452.0   \n",
       "\n",
       "         Year  Month  DayofMonth  DayOfWeek  ArrDelay15Min  DepDelay15Min  \\\n",
       "0     6574305  20836       51826      13239           2678           3255   \n",
       "1     2221910   7337       16839       4306            965           1100   \n",
       "2    29323486  95399      233833      58752          11613          14519   \n",
       "3      733275   2488        5560       1436            299            363   \n",
       "4      828144   2552        6194       1564            360            410   \n",
       "..        ...    ...         ...        ...            ...            ...   \n",
       "383   1066917   3711        8181       2055            444            528   \n",
       "384    733308   2378        5724       1509            337            363   \n",
       "385   1082370   3318        8172       2074            486            536   \n",
       "386      4036      2           5          5              1              2   \n",
       "387   1434420   4409       11383       2804            641            710   \n",
       "\n",
       "     DeptDelay15Min  \n",
       "0              3255  \n",
       "1              1100  \n",
       "2             14519  \n",
       "3               363  \n",
       "4               410  \n",
       "..              ...  \n",
       "383             528  \n",
       "384             363  \n",
       "385             536  \n",
       "386               2  \n",
       "387             710  \n",
       "\n",
       "[388 rows x 13 columns]"
      ]
     },
     "execution_count": 21,
     "metadata": {},
     "output_type": "execute_result"
    }
   ],
   "source": [
    "df.loc[(df['DepDelayMinutes']>=15.0)].groupby('Origin',as_index=False).sum()"
   ]
  },
  {
   "cell_type": "code",
   "execution_count": 22,
   "id": "c9a1cc5c",
   "metadata": {
    "execution": {
     "iopub.execute_input": "2022-10-25T02:25:24.661241Z",
     "iopub.status.busy": "2022-10-25T02:25:24.660788Z",
     "iopub.status.idle": "2022-10-25T02:25:24.870714Z",
     "shell.execute_reply": "2022-10-25T02:25:24.869270Z"
    },
    "papermill": {
     "duration": 0.227196,
     "end_time": "2022-10-25T02:25:24.873566",
     "exception": false,
     "start_time": "2022-10-25T02:25:24.646370",
     "status": "completed"
    },
    "tags": []
   },
   "outputs": [],
   "source": [
    "df['flight_per_day'] = df['Distance'].div(df['Year'])"
   ]
  },
  {
   "cell_type": "code",
   "execution_count": 23,
   "id": "2809ae8a",
   "metadata": {
    "execution": {
     "iopub.execute_input": "2022-10-25T02:25:24.901728Z",
     "iopub.status.busy": "2022-10-25T02:25:24.901347Z",
     "iopub.status.idle": "2022-10-25T02:25:24.934239Z",
     "shell.execute_reply": "2022-10-25T02:25:24.932672Z"
    },
    "papermill": {
     "duration": 0.05045,
     "end_time": "2022-10-25T02:25:24.937020",
     "exception": false,
     "start_time": "2022-10-25T02:25:24.886570",
     "status": "completed"
    },
    "tags": []
   },
   "outputs": [
    {
     "data": {
      "text/html": [
       "<div>\n",
       "<style scoped>\n",
       "    .dataframe tbody tr th:only-of-type {\n",
       "        vertical-align: middle;\n",
       "    }\n",
       "\n",
       "    .dataframe tbody tr th {\n",
       "        vertical-align: top;\n",
       "    }\n",
       "\n",
       "    .dataframe thead th {\n",
       "        text-align: right;\n",
       "    }\n",
       "</style>\n",
       "<table border=\"1\" class=\"dataframe\">\n",
       "  <thead>\n",
       "    <tr style=\"text-align: right;\">\n",
       "      <th></th>\n",
       "      <th>Airline</th>\n",
       "      <th>Origin</th>\n",
       "      <th>Dest</th>\n",
       "      <th>Cancelled</th>\n",
       "      <th>Diverted</th>\n",
       "      <th>DepDelayMinutes</th>\n",
       "      <th>ArrDelayMinutes</th>\n",
       "      <th>Distance</th>\n",
       "      <th>Year</th>\n",
       "      <th>Month</th>\n",
       "      <th>DayofMonth</th>\n",
       "      <th>DayOfWeek</th>\n",
       "      <th>Tail_Number</th>\n",
       "      <th>ArrDelay15Min</th>\n",
       "      <th>DepDelay15Min</th>\n",
       "      <th>DeptDelay15Min</th>\n",
       "      <th>flight_per_day</th>\n",
       "    </tr>\n",
       "  </thead>\n",
       "  <tbody>\n",
       "    <tr>\n",
       "      <th>0</th>\n",
       "      <td>Endeavor Air Inc.</td>\n",
       "      <td>ABY</td>\n",
       "      <td>ATL</td>\n",
       "      <td>False</td>\n",
       "      <td>False</td>\n",
       "      <td>0.0</td>\n",
       "      <td>0.0</td>\n",
       "      <td>145.0</td>\n",
       "      <td>2018</td>\n",
       "      <td>1</td>\n",
       "      <td>23</td>\n",
       "      <td>2</td>\n",
       "      <td>N8928A</td>\n",
       "      <td>False</td>\n",
       "      <td>False</td>\n",
       "      <td>False</td>\n",
       "      <td>0.071853</td>\n",
       "    </tr>\n",
       "    <tr>\n",
       "      <th>1</th>\n",
       "      <td>Endeavor Air Inc.</td>\n",
       "      <td>ABY</td>\n",
       "      <td>ATL</td>\n",
       "      <td>False</td>\n",
       "      <td>False</td>\n",
       "      <td>0.0</td>\n",
       "      <td>0.0</td>\n",
       "      <td>145.0</td>\n",
       "      <td>2018</td>\n",
       "      <td>1</td>\n",
       "      <td>24</td>\n",
       "      <td>3</td>\n",
       "      <td>N800AY</td>\n",
       "      <td>False</td>\n",
       "      <td>False</td>\n",
       "      <td>False</td>\n",
       "      <td>0.071853</td>\n",
       "    </tr>\n",
       "    <tr>\n",
       "      <th>2</th>\n",
       "      <td>Endeavor Air Inc.</td>\n",
       "      <td>ABY</td>\n",
       "      <td>ATL</td>\n",
       "      <td>False</td>\n",
       "      <td>False</td>\n",
       "      <td>0.0</td>\n",
       "      <td>0.0</td>\n",
       "      <td>145.0</td>\n",
       "      <td>2018</td>\n",
       "      <td>1</td>\n",
       "      <td>25</td>\n",
       "      <td>4</td>\n",
       "      <td>N8836A</td>\n",
       "      <td>False</td>\n",
       "      <td>False</td>\n",
       "      <td>False</td>\n",
       "      <td>0.071853</td>\n",
       "    </tr>\n",
       "    <tr>\n",
       "      <th>3</th>\n",
       "      <td>Endeavor Air Inc.</td>\n",
       "      <td>ABY</td>\n",
       "      <td>ATL</td>\n",
       "      <td>False</td>\n",
       "      <td>False</td>\n",
       "      <td>0.0</td>\n",
       "      <td>0.0</td>\n",
       "      <td>145.0</td>\n",
       "      <td>2018</td>\n",
       "      <td>1</td>\n",
       "      <td>26</td>\n",
       "      <td>5</td>\n",
       "      <td>N800AY</td>\n",
       "      <td>False</td>\n",
       "      <td>False</td>\n",
       "      <td>False</td>\n",
       "      <td>0.071853</td>\n",
       "    </tr>\n",
       "    <tr>\n",
       "      <th>4</th>\n",
       "      <td>Endeavor Air Inc.</td>\n",
       "      <td>ABY</td>\n",
       "      <td>ATL</td>\n",
       "      <td>False</td>\n",
       "      <td>False</td>\n",
       "      <td>0.0</td>\n",
       "      <td>0.0</td>\n",
       "      <td>145.0</td>\n",
       "      <td>2018</td>\n",
       "      <td>1</td>\n",
       "      <td>27</td>\n",
       "      <td>6</td>\n",
       "      <td>N8839E</td>\n",
       "      <td>False</td>\n",
       "      <td>False</td>\n",
       "      <td>False</td>\n",
       "      <td>0.071853</td>\n",
       "    </tr>\n",
       "    <tr>\n",
       "      <th>...</th>\n",
       "      <td>...</td>\n",
       "      <td>...</td>\n",
       "      <td>...</td>\n",
       "      <td>...</td>\n",
       "      <td>...</td>\n",
       "      <td>...</td>\n",
       "      <td>...</td>\n",
       "      <td>...</td>\n",
       "      <td>...</td>\n",
       "      <td>...</td>\n",
       "      <td>...</td>\n",
       "      <td>...</td>\n",
       "      <td>...</td>\n",
       "      <td>...</td>\n",
       "      <td>...</td>\n",
       "      <td>...</td>\n",
       "      <td>...</td>\n",
       "    </tr>\n",
       "    <tr>\n",
       "      <th>29193772</th>\n",
       "      <td>Republic Airlines</td>\n",
       "      <td>EYW</td>\n",
       "      <td>EWR</td>\n",
       "      <td>False</td>\n",
       "      <td>False</td>\n",
       "      <td>216.0</td>\n",
       "      <td>207.0</td>\n",
       "      <td>1196.0</td>\n",
       "      <td>2022</td>\n",
       "      <td>3</td>\n",
       "      <td>31</td>\n",
       "      <td>4</td>\n",
       "      <td>N655RW</td>\n",
       "      <td>True</td>\n",
       "      <td>True</td>\n",
       "      <td>True</td>\n",
       "      <td>0.591494</td>\n",
       "    </tr>\n",
       "    <tr>\n",
       "      <th>29193773</th>\n",
       "      <td>Republic Airlines</td>\n",
       "      <td>CLE</td>\n",
       "      <td>EWR</td>\n",
       "      <td>False</td>\n",
       "      <td>False</td>\n",
       "      <td>223.0</td>\n",
       "      <td>201.0</td>\n",
       "      <td>404.0</td>\n",
       "      <td>2022</td>\n",
       "      <td>3</td>\n",
       "      <td>31</td>\n",
       "      <td>4</td>\n",
       "      <td>N656RW</td>\n",
       "      <td>True</td>\n",
       "      <td>True</td>\n",
       "      <td>True</td>\n",
       "      <td>0.199802</td>\n",
       "    </tr>\n",
       "    <tr>\n",
       "      <th>29193774</th>\n",
       "      <td>Republic Airlines</td>\n",
       "      <td>IAD</td>\n",
       "      <td>PIT</td>\n",
       "      <td>False</td>\n",
       "      <td>False</td>\n",
       "      <td>195.0</td>\n",
       "      <td>180.0</td>\n",
       "      <td>182.0</td>\n",
       "      <td>2022</td>\n",
       "      <td>3</td>\n",
       "      <td>31</td>\n",
       "      <td>4</td>\n",
       "      <td>N650RW</td>\n",
       "      <td>True</td>\n",
       "      <td>True</td>\n",
       "      <td>True</td>\n",
       "      <td>0.090010</td>\n",
       "    </tr>\n",
       "    <tr>\n",
       "      <th>29193776</th>\n",
       "      <td>Republic Airlines</td>\n",
       "      <td>EWR</td>\n",
       "      <td>MEM</td>\n",
       "      <td>False</td>\n",
       "      <td>False</td>\n",
       "      <td>154.0</td>\n",
       "      <td>135.0</td>\n",
       "      <td>946.0</td>\n",
       "      <td>2022</td>\n",
       "      <td>3</td>\n",
       "      <td>19</td>\n",
       "      <td>6</td>\n",
       "      <td>N728YX</td>\n",
       "      <td>True</td>\n",
       "      <td>True</td>\n",
       "      <td>True</td>\n",
       "      <td>0.467854</td>\n",
       "    </tr>\n",
       "    <tr>\n",
       "      <th>29193779</th>\n",
       "      <td>Republic Airlines</td>\n",
       "      <td>ALB</td>\n",
       "      <td>ORD</td>\n",
       "      <td>False</td>\n",
       "      <td>False</td>\n",
       "      <td>378.0</td>\n",
       "      <td>381.0</td>\n",
       "      <td>723.0</td>\n",
       "      <td>2022</td>\n",
       "      <td>3</td>\n",
       "      <td>8</td>\n",
       "      <td>2</td>\n",
       "      <td>N733YX</td>\n",
       "      <td>True</td>\n",
       "      <td>True</td>\n",
       "      <td>True</td>\n",
       "      <td>0.357567</td>\n",
       "    </tr>\n",
       "  </tbody>\n",
       "</table>\n",
       "<p>28346524 rows × 17 columns</p>\n",
       "</div>"
      ],
      "text/plain": [
       "                    Airline Origin Dest  Cancelled  Diverted  DepDelayMinutes  \\\n",
       "0         Endeavor Air Inc.    ABY  ATL      False     False              0.0   \n",
       "1         Endeavor Air Inc.    ABY  ATL      False     False              0.0   \n",
       "2         Endeavor Air Inc.    ABY  ATL      False     False              0.0   \n",
       "3         Endeavor Air Inc.    ABY  ATL      False     False              0.0   \n",
       "4         Endeavor Air Inc.    ABY  ATL      False     False              0.0   \n",
       "...                     ...    ...  ...        ...       ...              ...   \n",
       "29193772  Republic Airlines    EYW  EWR      False     False            216.0   \n",
       "29193773  Republic Airlines    CLE  EWR      False     False            223.0   \n",
       "29193774  Republic Airlines    IAD  PIT      False     False            195.0   \n",
       "29193776  Republic Airlines    EWR  MEM      False     False            154.0   \n",
       "29193779  Republic Airlines    ALB  ORD      False     False            378.0   \n",
       "\n",
       "          ArrDelayMinutes  Distance  Year  Month  DayofMonth  DayOfWeek  \\\n",
       "0                     0.0     145.0  2018      1          23          2   \n",
       "1                     0.0     145.0  2018      1          24          3   \n",
       "2                     0.0     145.0  2018      1          25          4   \n",
       "3                     0.0     145.0  2018      1          26          5   \n",
       "4                     0.0     145.0  2018      1          27          6   \n",
       "...                   ...       ...   ...    ...         ...        ...   \n",
       "29193772            207.0    1196.0  2022      3          31          4   \n",
       "29193773            201.0     404.0  2022      3          31          4   \n",
       "29193774            180.0     182.0  2022      3          31          4   \n",
       "29193776            135.0     946.0  2022      3          19          6   \n",
       "29193779            381.0     723.0  2022      3           8          2   \n",
       "\n",
       "         Tail_Number  ArrDelay15Min  DepDelay15Min  DeptDelay15Min  \\\n",
       "0             N8928A          False          False           False   \n",
       "1             N800AY          False          False           False   \n",
       "2             N8836A          False          False           False   \n",
       "3             N800AY          False          False           False   \n",
       "4             N8839E          False          False           False   \n",
       "...              ...            ...            ...             ...   \n",
       "29193772      N655RW           True           True            True   \n",
       "29193773      N656RW           True           True            True   \n",
       "29193774      N650RW           True           True            True   \n",
       "29193776      N728YX           True           True            True   \n",
       "29193779      N733YX           True           True            True   \n",
       "\n",
       "          flight_per_day  \n",
       "0               0.071853  \n",
       "1               0.071853  \n",
       "2               0.071853  \n",
       "3               0.071853  \n",
       "4               0.071853  \n",
       "...                  ...  \n",
       "29193772        0.591494  \n",
       "29193773        0.199802  \n",
       "29193774        0.090010  \n",
       "29193776        0.467854  \n",
       "29193779        0.357567  \n",
       "\n",
       "[28346524 rows x 17 columns]"
      ]
     },
     "execution_count": 23,
     "metadata": {},
     "output_type": "execute_result"
    }
   ],
   "source": [
    "df"
   ]
  },
  {
   "cell_type": "code",
   "execution_count": null,
   "id": "a1840c3a",
   "metadata": {
    "papermill": {
     "duration": 0.013108,
     "end_time": "2022-10-25T02:25:24.963595",
     "exception": false,
     "start_time": "2022-10-25T02:25:24.950487",
     "status": "completed"
    },
    "tags": []
   },
   "outputs": [],
   "source": []
  }
 ],
 "metadata": {
  "kernelspec": {
   "display_name": "Python 3",
   "language": "python",
   "name": "python3"
  },
  "language_info": {
   "codemirror_mode": {
    "name": "ipython",
    "version": 3
   },
   "file_extension": ".py",
   "mimetype": "text/x-python",
   "name": "python",
   "nbconvert_exporter": "python",
   "pygments_lexer": "ipython3",
   "version": "3.7.12"
  },
  "papermill": {
   "default_parameters": {},
   "duration": 105.615737,
   "end_time": "2022-10-25T02:25:26.202572",
   "environment_variables": {},
   "exception": null,
   "input_path": "__notebook__.ipynb",
   "output_path": "__notebook__.ipynb",
   "parameters": {},
   "start_time": "2022-10-25T02:23:40.586835",
   "version": "2.3.4"
  }
 },
 "nbformat": 4,
 "nbformat_minor": 5
}
