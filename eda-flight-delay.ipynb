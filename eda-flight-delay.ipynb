{
 "cells": [
  {
   "cell_type": "code",
   "execution_count": 1,
   "id": "58373973",
   "metadata": {
    "_cell_guid": "b1076dfc-b9ad-4769-8c92-a6c4dae69d19",
    "_uuid": "8f2839f25d086af736a60e9eeb907d3b93b6e0e5",
    "execution": {
     "iopub.execute_input": "2022-10-26T21:06:46.236667Z",
     "iopub.status.busy": "2022-10-26T21:06:46.235805Z",
     "iopub.status.idle": "2022-10-26T21:06:46.246234Z",
     "shell.execute_reply": "2022-10-26T21:06:46.245131Z"
    },
    "papermill": {
     "duration": 0.023455,
     "end_time": "2022-10-26T21:06:46.248905",
     "exception": false,
     "start_time": "2022-10-26T21:06:46.225450",
     "status": "completed"
    },
    "tags": []
   },
   "outputs": [],
   "source": [
    "import numpy as np\n",
    "import pandas as pd # data processing, CSV file I/O (e.g. pd.read_csv)\n",
    "import os"
   ]
  },
  {
   "cell_type": "code",
   "execution_count": 2,
   "id": "64bb1cfc",
   "metadata": {
    "execution": {
     "iopub.execute_input": "2022-10-26T21:06:46.265483Z",
     "iopub.status.busy": "2022-10-26T21:06:46.265102Z",
     "iopub.status.idle": "2022-10-26T21:06:46.563865Z",
     "shell.execute_reply": "2022-10-26T21:06:46.562596Z"
    },
    "papermill": {
     "duration": 0.309868,
     "end_time": "2022-10-26T21:06:46.566406",
     "exception": false,
     "start_time": "2022-10-26T21:06:46.256538",
     "status": "completed"
    },
    "tags": []
   },
   "outputs": [
    {
     "name": "stdout",
     "output_type": "stream",
     "text": [
      "Combined_Flights_2018.parquet\r\n",
      "Combined_Flights_2019.parquet\r\n",
      "Combined_Flights_2020.parquet\r\n",
      "Combined_Flights_2021.parquet\r\n",
      "Combined_Flights_2022.parquet\r\n"
     ]
    }
   ],
   "source": [
    "!ls ../input/flight-delay-dataset-20182022/ | grep parquet"
   ]
  },
  {
   "cell_type": "code",
   "execution_count": 3,
   "id": "15d64e9f",
   "metadata": {
    "execution": {
     "iopub.execute_input": "2022-10-26T21:06:46.583153Z",
     "iopub.status.busy": "2022-10-26T21:06:46.582796Z",
     "iopub.status.idle": "2022-10-26T21:06:46.591483Z",
     "shell.execute_reply": "2022-10-26T21:06:46.590368Z"
    },
    "papermill": {
     "duration": 0.019734,
     "end_time": "2022-10-26T21:06:46.593524",
     "exception": false,
     "start_time": "2022-10-26T21:06:46.573790",
     "status": "completed"
    },
    "tags": []
   },
   "outputs": [],
   "source": [
    "columns_interested = ['FlightDate','Airline', 'Origin', 'Dest', 'Cancelled', 'Diverted', 'DepDelayMinutes',\n",
    "       'ArrDelayMinutes','Distance', 'Year', 'Month', 'DayofMonth', 'DayOfWeek','Tail_Number']"
   ]
  },
  {
   "cell_type": "code",
   "execution_count": 4,
   "id": "c34c2260",
   "metadata": {
    "execution": {
     "iopub.execute_input": "2022-10-26T21:06:46.610256Z",
     "iopub.status.busy": "2022-10-26T21:06:46.609909Z",
     "iopub.status.idle": "2022-10-26T21:06:51.486379Z",
     "shell.execute_reply": "2022-10-26T21:06:51.485243Z"
    },
    "papermill": {
     "duration": 4.887648,
     "end_time": "2022-10-26T21:06:51.488744",
     "exception": false,
     "start_time": "2022-10-26T21:06:46.601096",
     "status": "completed"
    },
    "tags": []
   },
   "outputs": [],
   "source": [
    "years = [2018]#, 2019, 2020, 2021, 2022]\n",
    "allFlights = []\n",
    "for year in years:\n",
    "    fileName = f\"Combined_Flights_{year}\"\n",
    "    directoryName = \"/kaggle/input/flight-delay-dataset-20182022/\"+fileName+\".parquet\"\n",
    "    allFlights.append(pd.read_parquet(directoryName,columns = columns_interested))\n",
    "df = pd.concat(allFlights).reset_index(drop=True)\n",
    "df = df.dropna()\n",
    "del allFlights"
   ]
  },
  {
   "cell_type": "code",
   "execution_count": 5,
   "id": "8669d797",
   "metadata": {
    "execution": {
     "iopub.execute_input": "2022-10-26T21:06:51.509142Z",
     "iopub.status.busy": "2022-10-26T21:06:51.507204Z",
     "iopub.status.idle": "2022-10-26T21:06:52.952482Z",
     "shell.execute_reply": "2022-10-26T21:06:52.951065Z"
    },
    "papermill": {
     "duration": 1.457166,
     "end_time": "2022-10-26T21:06:52.955039",
     "exception": false,
     "start_time": "2022-10-26T21:06:51.497873",
     "status": "completed"
    },
    "tags": []
   },
   "outputs": [],
   "source": [
    "df['Airline'] =  df['Airline'].astype(dtype='string')\n",
    "df['Origin'] =  df['Origin'].astype(dtype='string')\n",
    "df['Dest'] =  df['Dest'].astype(dtype='string')\n",
    "df['Tail_Number'] =  df['Tail_Number'].astype(dtype='string')"
   ]
  },
  {
   "cell_type": "code",
   "execution_count": 6,
   "id": "76e9e72e",
   "metadata": {
    "execution": {
     "iopub.execute_input": "2022-10-26T21:06:52.971188Z",
     "iopub.status.busy": "2022-10-26T21:06:52.970845Z",
     "iopub.status.idle": "2022-10-26T21:06:52.982625Z",
     "shell.execute_reply": "2022-10-26T21:06:52.980876Z"
    },
    "papermill": {
     "duration": 0.022891,
     "end_time": "2022-10-26T21:06:52.985250",
     "exception": false,
     "start_time": "2022-10-26T21:06:52.962359",
     "status": "completed"
    },
    "tags": []
   },
   "outputs": [
    {
     "data": {
      "text/plain": [
       "FlightDate         datetime64[ns]\n",
       "Airline                    string\n",
       "Origin                     string\n",
       "Dest                       string\n",
       "Cancelled                    bool\n",
       "Diverted                     bool\n",
       "DepDelayMinutes           float64\n",
       "ArrDelayMinutes           float64\n",
       "Distance                  float64\n",
       "Year                        int64\n",
       "Month                       int64\n",
       "DayofMonth                  int64\n",
       "DayOfWeek                   int64\n",
       "Tail_Number                string\n",
       "dtype: object"
      ]
     },
     "execution_count": 6,
     "metadata": {},
     "output_type": "execute_result"
    }
   ],
   "source": [
    "df.dtypes"
   ]
  },
  {
   "cell_type": "markdown",
   "id": "755dd209",
   "metadata": {
    "papermill": {
     "duration": 0.008243,
     "end_time": "2022-10-26T21:06:53.001282",
     "exception": false,
     "start_time": "2022-10-26T21:06:52.993039",
     "status": "completed"
    },
    "tags": []
   },
   "source": [
    "## Both arrival and departures delays have exponential distributions."
   ]
  },
  {
   "cell_type": "code",
   "execution_count": 7,
   "id": "6c056fa7",
   "metadata": {
    "execution": {
     "iopub.execute_input": "2022-10-26T21:06:53.019029Z",
     "iopub.status.busy": "2022-10-26T21:06:53.018678Z",
     "iopub.status.idle": "2022-10-26T21:06:53.957654Z",
     "shell.execute_reply": "2022-10-26T21:06:53.956323Z"
    },
    "papermill": {
     "duration": 0.950035,
     "end_time": "2022-10-26T21:06:53.959889",
     "exception": false,
     "start_time": "2022-10-26T21:06:53.009854",
     "status": "completed"
    },
    "tags": []
   },
   "outputs": [
    {
     "data": {
      "text/plain": [
       "<AxesSubplot:title={'center':'Arrival Delays'}, ylabel='Frequency'>"
      ]
     },
     "execution_count": 7,
     "metadata": {},
     "output_type": "execute_result"
    },
    {
     "data": {
      "image/png": "[encoded data removed]",
      "text/plain": [
       "<Figure size 432x288 with 1 Axes>"
      ]
     },
     "metadata": {
      "needs_background": "light"
     },
     "output_type": "display_data"
    }
   ],
   "source": [
    "df.loc[(df['ArrDelayMinutes'] > 0.0) & (df['ArrDelayMinutes'] < 120.0)]['ArrDelayMinutes'].plot(kind='hist',bins=120, title=\"Arrival Delays\")"
   ]
  },
  {
   "cell_type": "code",
   "execution_count": 8,
   "id": "30f2fe9a",
   "metadata": {
    "execution": {
     "iopub.execute_input": "2022-10-26T21:06:53.978499Z",
     "iopub.status.busy": "2022-10-26T21:06:53.977098Z",
     "iopub.status.idle": "2022-10-26T21:06:54.788502Z",
     "shell.execute_reply": "2022-10-26T21:06:54.787171Z"
    },
    "papermill": {
     "duration": 0.823315,
     "end_time": "2022-10-26T21:06:54.791226",
     "exception": false,
     "start_time": "2022-10-26T21:06:53.967911",
     "status": "completed"
    },
    "tags": []
   },
   "outputs": [
    {
     "data": {
      "text/plain": [
       "<AxesSubplot:title={'center':'Departure Delays'}, ylabel='Frequency'>"
      ]
     },
     "execution_count": 8,
     "metadata": {},
     "output_type": "execute_result"
    },
    {
     "data": {
      "image/png": "[encoded data removed]",
      "text/plain": [
       "<Figure size 432x288 with 1 Axes>"
      ]
     },
     "metadata": {
      "needs_background": "light"
     },
     "output_type": "display_data"
    }
   ],
   "source": [
    "df.loc[(df['DepDelayMinutes'] > 15.0) & (df['DepDelayMinutes'] < 180.0)]['DepDelayMinutes'].plot(kind='hist',bins=165,title=\"Departure Delays\")"
   ]
  },
  {
   "cell_type": "markdown",
   "id": "1eeeae9f",
   "metadata": {
    "papermill": {
     "duration": 0.007976,
     "end_time": "2022-10-26T21:06:54.808171",
     "exception": false,
     "start_time": "2022-10-26T21:06:54.800195",
     "status": "completed"
    },
    "tags": []
   },
   "source": [
    "According to FAA a flight is considered to be delayed when it is 15 minutes later than its scheduled time."
   ]
  },
  {
   "cell_type": "markdown",
   "id": "ae7af768",
   "metadata": {
    "papermill": {
     "duration": 0.007758,
     "end_time": "2022-10-26T21:06:54.824342",
     "exception": false,
     "start_time": "2022-10-26T21:06:54.816584",
     "status": "completed"
    },
    "tags": []
   },
   "source": [
    "# Q: Which airports had the longest arrival and departure delays?"
   ]
  },
  {
   "cell_type": "code",
   "execution_count": 9,
   "id": "18bf24ba",
   "metadata": {
    "execution": {
     "iopub.execute_input": "2022-10-26T21:06:54.842307Z",
     "iopub.status.busy": "2022-10-26T21:06:54.841875Z",
     "iopub.status.idle": "2022-10-26T21:06:55.351985Z",
     "shell.execute_reply": "2022-10-26T21:06:55.350739Z"
    },
    "papermill": {
     "duration": 0.521595,
     "end_time": "2022-10-26T21:06:55.353972",
     "exception": false,
     "start_time": "2022-10-26T21:06:54.832377",
     "status": "completed"
    },
    "tags": []
   },
   "outputs": [
    {
     "data": {
      "text/plain": [
       "<AxesSubplot:title={'center':'Airports with most delays between 2018 and 2022'}, ylabel='Origin'>"
      ]
     },
     "execution_count": 9,
     "metadata": {},
     "output_type": "execute_result"
    },
    {
     "data": {
      "image/png": "[encoded data removed]",
      "text/plain": [
       "<Figure size 504x504 with 1 Axes>"
      ]
     },
     "metadata": {
      "needs_background": "light"
     },
     "output_type": "display_data"
    }
   ],
   "source": [
    "_df = df.loc[(df['DepDelayMinutes']>=15.0)].groupby('Origin').size().sort_values(ascending=True)\n",
    "_df.tail(n=10).plot(kind = 'barh',figsize=(7,7), title=\"Airports with most delays between 2018 and 2022\", ylabel=\"Sum of all delays in minutes\", width=1, edgecolor=\"black\")"
   ]
  },
  {
   "cell_type": "code",
   "execution_count": 10,
   "id": "e5180fcf",
   "metadata": {
    "execution": {
     "iopub.execute_input": "2022-10-26T21:06:55.372011Z",
     "iopub.status.busy": "2022-10-26T21:06:55.371659Z",
     "iopub.status.idle": "2022-10-26T21:06:55.888588Z",
     "shell.execute_reply": "2022-10-26T21:06:55.887686Z"
    },
    "papermill": {
     "duration": 0.528842,
     "end_time": "2022-10-26T21:06:55.891032",
     "exception": false,
     "start_time": "2022-10-26T21:06:55.362190",
     "status": "completed"
    },
    "tags": []
   },
   "outputs": [
    {
     "data": {
      "text/plain": [
       "<AxesSubplot:title={'center':'Most arrival delays per airport'}, ylabel='Dest'>"
      ]
     },
     "execution_count": 10,
     "metadata": {},
     "output_type": "execute_result"
    },
    {
     "data": {
      "image/png": "[encoded data removed]",
      "text/plain": [
       "<Figure size 504x504 with 1 Axes>"
      ]
     },
     "metadata": {
      "needs_background": "light"
     },
     "output_type": "display_data"
    }
   ],
   "source": [
    "_df = df.loc[(df['ArrDelayMinutes']>=15.0)].groupby('Dest').size().sort_values(ascending=True)\n",
    "_df.tail(n=10).plot(kind = 'barh',figsize=(7,7), title=\"Most arrival delays per airport\",edgecolor = 'black', width=1)"
   ]
  },
  {
   "cell_type": "markdown",
   "id": "900d5090",
   "metadata": {
    "papermill": {
     "duration": 0.008651,
     "end_time": "2022-10-26T21:06:55.909229",
     "exception": false,
     "start_time": "2022-10-26T21:06:55.900578",
     "status": "completed"
    },
    "tags": []
   },
   "source": [
    "**Chicago O'Hare, Denver, Dallas, Atlanta** airports had the highest cumulative delays both in arrival and departure."
   ]
  },
  {
   "cell_type": "markdown",
   "id": "ff8a63ba",
   "metadata": {
    "papermill": {
     "duration": 0.008751,
     "end_time": "2022-10-26T21:06:55.926791",
     "exception": false,
     "start_time": "2022-10-26T21:06:55.918040",
     "status": "completed"
    },
    "tags": []
   },
   "source": [
    "# Q: Which airports had the highest percentage of delayed arrival and departure flights?\n",
    "\n",
    "YNG is a military airport. There is only 2 data points associated with it in the dataset."
   ]
  },
  {
   "cell_type": "code",
   "execution_count": 11,
   "id": "0d2c9e38",
   "metadata": {
    "execution": {
     "iopub.execute_input": "2022-10-26T21:06:55.946438Z",
     "iopub.status.busy": "2022-10-26T21:06:55.946043Z",
     "iopub.status.idle": "2022-10-26T21:07:00.447164Z",
     "shell.execute_reply": "2022-10-26T21:07:00.445883Z"
    },
    "papermill": {
     "duration": 4.514364,
     "end_time": "2022-10-26T21:07:00.450054",
     "exception": false,
     "start_time": "2022-10-26T21:06:55.935690",
     "status": "completed"
    },
    "tags": []
   },
   "outputs": [],
   "source": [
    "df.drop(df[df['Origin'] == 'YNG'].index, inplace = True)\n",
    "df.drop(df[df['Dest'] == 'YNG'].index, inplace = True)\n",
    "df['ArrDelay15Min'] = (df['ArrDelayMinutes']>=15.0)#.groupby('Dest').size().sort_values(ascending=True)\n",
    "_df = df.groupby(['Dest','ArrDelay15Min']).size()\n",
    "_df = _df.to_frame(name = 'size').reset_index()\n",
    "_df['percentages'] = _df.groupby('Dest').apply(lambda x:100 * x / x.sum())['size']"
   ]
  },
  {
   "cell_type": "code",
   "execution_count": 12,
   "id": "8d8c9762",
   "metadata": {
    "execution": {
     "iopub.execute_input": "2022-10-26T21:07:00.469742Z",
     "iopub.status.busy": "2022-10-26T21:07:00.469313Z",
     "iopub.status.idle": "2022-10-26T21:07:00.694893Z",
     "shell.execute_reply": "2022-10-26T21:07:00.693462Z"
    },
    "papermill": {
     "duration": 0.237992,
     "end_time": "2022-10-26T21:07:00.697002",
     "exception": false,
     "start_time": "2022-10-26T21:07:00.459010",
     "status": "completed"
    },
    "tags": []
   },
   "outputs": [
    {
     "data": {
      "text/plain": [
       "<AxesSubplot:ylabel='Arrivals'>"
      ]
     },
     "execution_count": 12,
     "metadata": {},
     "output_type": "execute_result"
    },
    {
     "data": {
      "image/png": "[encoded data removed]",
      "text/plain": [
       "<Figure size 504x504 with 1 Axes>"
      ]
     },
     "metadata": {
      "needs_background": "light"
     },
     "output_type": "display_data"
    }
   ],
   "source": [
    "_df.loc[_df['ArrDelay15Min']==True].sort_values(by='percentages',ascending=True).tail(10).plot(kind='barh', x='Dest',y='percentages',ylabel=\"Percentage of arrivals delayed\",xlabel=\"Arrivals\",edgecolor = 'black', width=1,figsize=(7,7))"
   ]
  },
  {
   "cell_type": "code",
   "execution_count": 13,
   "id": "3679fbb7",
   "metadata": {
    "execution": {
     "iopub.execute_input": "2022-10-26T21:07:00.721705Z",
     "iopub.status.busy": "2022-10-26T21:07:00.720880Z",
     "iopub.status.idle": "2022-10-26T21:07:02.048785Z",
     "shell.execute_reply": "2022-10-26T21:07:02.047340Z"
    },
    "papermill": {
     "duration": 1.343362,
     "end_time": "2022-10-26T21:07:02.051412",
     "exception": false,
     "start_time": "2022-10-26T21:07:00.708050",
     "status": "completed"
    },
    "tags": []
   },
   "outputs": [],
   "source": [
    "df['DepDelay15Min'] = (df['DepDelayMinutes']>=15.0)\n",
    "_df = df.groupby(['Origin','DepDelay15Min']).size()\n",
    "_df = _df.to_frame(name = 'size').reset_index()\n",
    "_df['percentages'] = _df.groupby('Origin').apply(lambda x:100 * x / x.sum())['size']"
   ]
  },
  {
   "cell_type": "code",
   "execution_count": 14,
   "id": "4cd0f7ca",
   "metadata": {
    "execution": {
     "iopub.execute_input": "2022-10-26T21:07:02.071616Z",
     "iopub.status.busy": "2022-10-26T21:07:02.071168Z",
     "iopub.status.idle": "2022-10-26T21:07:02.270057Z",
     "shell.execute_reply": "2022-10-26T21:07:02.269226Z"
    },
    "papermill": {
     "duration": 0.211531,
     "end_time": "2022-10-26T21:07:02.272060",
     "exception": false,
     "start_time": "2022-10-26T21:07:02.060529",
     "status": "completed"
    },
    "tags": []
   },
   "outputs": [
    {
     "data": {
      "text/plain": [
       "<AxesSubplot:ylabel='Origin'>"
      ]
     },
     "execution_count": 14,
     "metadata": {},
     "output_type": "execute_result"
    },
    {
     "data": {
      "image/png": "[encoded data removed]",
      "text/plain": [
       "<Figure size 504x504 with 1 Axes>"
      ]
     },
     "metadata": {
      "needs_background": "light"
     },
     "output_type": "display_data"
    }
   ],
   "source": [
    "_df.loc[_df['DepDelay15Min']==True].sort_values(by='percentages',ascending=True).tail(10).plot(kind='barh', x='Origin',y='percentages',ylabel=\"Percentage of departures delayed\",xlabel=\"Origin\",figsize=(7,7),width=1,edgecolor='black')"
   ]
  },
  {
   "cell_type": "markdown",
   "id": "8cd98dd6",
   "metadata": {
    "papermill": {
     "duration": 0.009043,
     "end_time": "2022-10-26T21:07:02.290410",
     "exception": false,
     "start_time": "2022-10-26T21:07:02.281367",
     "status": "completed"
    },
    "tags": []
   },
   "source": [
    "Most of these are small, regional airports.\n"
   ]
  },
  {
   "cell_type": "markdown",
   "id": "639642e2",
   "metadata": {
    "papermill": {
     "duration": 0.008956,
     "end_time": "2022-10-26T21:07:02.308408",
     "exception": false,
     "start_time": "2022-10-26T21:07:02.299452",
     "status": "completed"
    },
    "tags": []
   },
   "source": [
    "# Q: Which airlines' flights were delayed for longest amount of time?"
   ]
  },
  {
   "cell_type": "code",
   "execution_count": 15,
   "id": "a12efd3c",
   "metadata": {
    "execution": {
     "iopub.execute_input": "2022-10-26T21:07:02.329202Z",
     "iopub.status.busy": "2022-10-26T21:07:02.327875Z",
     "iopub.status.idle": "2022-10-26T21:07:02.863329Z",
     "shell.execute_reply": "2022-10-26T21:07:02.861600Z"
    },
    "papermill": {
     "duration": 0.548984,
     "end_time": "2022-10-26T21:07:02.866516",
     "exception": false,
     "start_time": "2022-10-26T21:07:02.317532",
     "status": "completed"
    },
    "tags": []
   },
   "outputs": [
    {
     "data": {
      "text/plain": [
       "<AxesSubplot:title={'center':'Carriers with most delays between 2018 and 2022'}, ylabel='Airline'>"
      ]
     },
     "execution_count": 15,
     "metadata": {},
     "output_type": "execute_result"
    },
    {
     "data": {
      "image/png": "[encoded data removed]",
      "text/plain": [
       "<Figure size 504x504 with 1 Axes>"
      ]
     },
     "metadata": {
      "needs_background": "light"
     },
     "output_type": "display_data"
    }
   ],
   "source": [
    "_df = df.loc[(df['DepDelayMinutes']>=15.0)].groupby('Airline')[\"DepDelayMinutes\"].sum().sort_values(ascending=True)\n",
    "_df.tail(n=10).plot(kind = 'barh', title=\"Carriers with most delays between 2018 and 2022\", ylabel=\"Sum of all delays in minutes\",figsize=(7,7),edgecolor = 'black',width=1)"
   ]
  },
  {
   "cell_type": "markdown",
   "id": "371710e6",
   "metadata": {
    "execution": {
     "iopub.execute_input": "2022-10-24T21:57:48.874417Z",
     "iopub.status.busy": "2022-10-24T21:57:48.874044Z",
     "iopub.status.idle": "2022-10-24T21:57:48.882901Z",
     "shell.execute_reply": "2022-10-24T21:57:48.882254Z",
     "shell.execute_reply.started": "2022-10-24T21:57:48.874385Z"
    },
    "papermill": {
     "duration": 0.00946,
     "end_time": "2022-10-26T21:07:02.885766",
     "exception": false,
     "start_time": "2022-10-26T21:07:02.876306",
     "status": "completed"
    },
    "tags": []
   },
   "source": [
    "# Q: Which airline was the most late?"
   ]
  },
  {
   "cell_type": "code",
   "execution_count": 16,
   "id": "7eb646fa",
   "metadata": {
    "execution": {
     "iopub.execute_input": "2022-10-26T21:07:02.906826Z",
     "iopub.status.busy": "2022-10-26T21:07:02.906154Z",
     "iopub.status.idle": "2022-10-26T21:07:03.449037Z",
     "shell.execute_reply": "2022-10-26T21:07:03.447941Z"
    },
    "papermill": {
     "duration": 0.556098,
     "end_time": "2022-10-26T21:07:03.451406",
     "exception": false,
     "start_time": "2022-10-26T21:07:02.895308",
     "status": "completed"
    },
    "tags": []
   },
   "outputs": [
    {
     "data": {
      "text/plain": [
       "<AxesSubplot:title={'center':'Carriers with most delays between 2018 and 2022'}, ylabel='Airline'>"
      ]
     },
     "execution_count": 16,
     "metadata": {},
     "output_type": "execute_result"
    },
    {
     "data": {
      "image/png": "[encoded data removed]",
      "text/plain": [
       "<Figure size 504x504 with 1 Axes>"
      ]
     },
     "metadata": {
      "needs_background": "light"
     },
     "output_type": "display_data"
    }
   ],
   "source": [
    "_df = df.loc[(df['DepDelayMinutes']>=15.0)].groupby('Airline')[\"DepDelayMinutes\"].count().sort_values(ascending=True)\n",
    "_df.tail(n=10).plot(kind = 'barh', title=\"Carriers with most delays between 2018 and 2022\", ylabel=\"Sum of all delays in minutes\", width=1, edgecolor='black',figsize=(7,7))"
   ]
  },
  {
   "cell_type": "code",
   "execution_count": 17,
   "id": "7538d1e1",
   "metadata": {
    "execution": {
     "iopub.execute_input": "2022-10-26T21:07:03.474698Z",
     "iopub.status.busy": "2022-10-26T21:07:03.473670Z",
     "iopub.status.idle": "2022-10-26T21:07:04.644762Z",
     "shell.execute_reply": "2022-10-26T21:07:04.643414Z"
    },
    "papermill": {
     "duration": 1.185413,
     "end_time": "2022-10-26T21:07:04.647094",
     "exception": false,
     "start_time": "2022-10-26T21:07:03.461681",
     "status": "completed"
    },
    "tags": []
   },
   "outputs": [
    {
     "data": {
      "text/plain": [
       "<AxesSubplot:ylabel='Airline'>"
      ]
     },
     "execution_count": 17,
     "metadata": {},
     "output_type": "execute_result"
    },
    {
     "data": {
      "image/png": "[encoded data removed]",
      "text/plain": [
       "<Figure size 504x504 with 1 Axes>"
      ]
     },
     "metadata": {
      "needs_background": "light"
     },
     "output_type": "display_data"
    }
   ],
   "source": [
    "df['ArrDelay15Min'] = (df['ArrDelayMinutes']>=15.0)#.groupby('Dest').size().sort_values(ascending=True)\n",
    "_df = df.groupby(['Airline','ArrDelay15Min']).size()\n",
    "_df = _df.to_frame(name = 'size').reset_index()\n",
    "_df['percentages'] = _df.groupby('Airline').apply(lambda x:100 * x / x.sum())['size']\n",
    "_df.loc[_df['ArrDelay15Min']==True].sort_values(by='percentages',ascending=True).tail(10).plot(kind='barh', x='Airline',y='percentages',ylabel=\"Percentage of arrivals delayed\",xlabel=\"Airline\", width=1, edgecolor='black',figsize=(7,7))"
   ]
  },
  {
   "cell_type": "code",
   "execution_count": 18,
   "id": "e5f6534b",
   "metadata": {
    "execution": {
     "iopub.execute_input": "2022-10-26T21:07:04.670388Z",
     "iopub.status.busy": "2022-10-26T21:07:04.669985Z",
     "iopub.status.idle": "2022-10-26T21:07:05.821482Z",
     "shell.execute_reply": "2022-10-26T21:07:05.820171Z"
    },
    "papermill": {
     "duration": 1.166365,
     "end_time": "2022-10-26T21:07:05.824426",
     "exception": false,
     "start_time": "2022-10-26T21:07:04.658061",
     "status": "completed"
    },
    "tags": []
   },
   "outputs": [
    {
     "data": {
      "text/plain": [
       "<AxesSubplot:ylabel='Airline'>"
      ]
     },
     "execution_count": 18,
     "metadata": {},
     "output_type": "execute_result"
    },
    {
     "data": {
      "image/png": "[encoded data removed]",
      "text/plain": [
       "<Figure size 504x504 with 1 Axes>"
      ]
     },
     "metadata": {
      "needs_background": "light"
     },
     "output_type": "display_data"
    }
   ],
   "source": [
    "df['DeptDelay15Min'] = (df['DepDelayMinutes']>=15.0)#.groupby('Dest').size().sort_values(ascending=True)\n",
    "_df = df.groupby(['Airline','DeptDelay15Min']).size()\n",
    "_df = _df.to_frame(name = 'size').reset_index()\n",
    "_df['percentages'] = _df.groupby('Airline').apply(lambda x:100 * x / x.sum())['size']\n",
    "_df.loc[_df['DeptDelay15Min']==True].sort_values(by='percentages',ascending=True).tail(10).plot(kind='barh', x='Airline',y='percentages',ylabel=\"Percentage of departures delayed\",xlabel=\"Airline\",figsize=(7,7),width=1,edgecolor='black')"
   ]
  },
  {
   "cell_type": "markdown",
   "id": "18b49d7e",
   "metadata": {
    "papermill": {
     "duration": 0.01088,
     "end_time": "2022-10-26T21:07:05.847254",
     "exception": false,
     "start_time": "2022-10-26T21:07:05.836374",
     "status": "completed"
    },
    "tags": []
   },
   "source": [
    "FAA divides delays into three groups\n",
    "\n",
    "* \"on time or small delay\" (up to 15 minutes delay)\n",
    "\n",
    "* \"Medium delay\" (15 – 45 minutes delay)\n",
    "\n",
    "* \"Large delay\" ( 45 minutes delay)"
   ]
  },
  {
   "cell_type": "code",
   "execution_count": 19,
   "id": "4f516cd0",
   "metadata": {
    "execution": {
     "iopub.execute_input": "2022-10-26T21:07:05.871268Z",
     "iopub.status.busy": "2022-10-26T21:07:05.870870Z",
     "iopub.status.idle": "2022-10-26T21:07:06.557228Z",
     "shell.execute_reply": "2022-10-26T21:07:06.555515Z"
    },
    "papermill": {
     "duration": 0.70225,
     "end_time": "2022-10-26T21:07:06.560361",
     "exception": false,
     "start_time": "2022-10-26T21:07:05.858111",
     "status": "completed"
    },
    "tags": []
   },
   "outputs": [],
   "source": [
    "df[\"DepDelayGroup\"] = None\n",
    "df.loc[df[\"DepDelayMinutes\"] <= 15.0, \"DepDelayGroup\"] = \"OnTimeOrSmall\"\n",
    "df.loc[(df[\"DepDelayMinutes\"] <= 45.0)&(df[\"DepDelayMinutes\"] > 15.0), \"DepDelayGroup\"] = \"Medium\"\n",
    "df.loc[(df[\"DepDelayMinutes\"] > 45.0), \"DepDelayGroup\"] = \"Long\""
   ]
  },
  {
   "cell_type": "code",
   "execution_count": 20,
   "id": "39447d03",
   "metadata": {
    "execution": {
     "iopub.execute_input": "2022-10-26T21:07:06.584206Z",
     "iopub.status.busy": "2022-10-26T21:07:06.583869Z",
     "iopub.status.idle": "2022-10-26T21:07:07.270346Z",
     "shell.execute_reply": "2022-10-26T21:07:07.268847Z"
    },
    "papermill": {
     "duration": 0.701552,
     "end_time": "2022-10-26T21:07:07.273076",
     "exception": false,
     "start_time": "2022-10-26T21:07:06.571524",
     "status": "completed"
    },
    "tags": []
   },
   "outputs": [],
   "source": [
    "df[\"ArrDelayGroup\"] = None\n",
    "df.loc[df[\"ArrDelayMinutes\"] <= 15.0, \"ArrDelayGroup\"] = \"OnTimeOrSmall\"\n",
    "df.loc[(df[\"ArrDelayMinutes\"] <= 45.0)&(df[\"ArrDelayMinutes\"] > 15.0), \"ArrDelayGroup\"] = \"Medium\"\n",
    "df.loc[(df[\"ArrDelayMinutes\"] > 45.0), \"ArrDelayGroup\"] = \"Long\""
   ]
  },
  {
   "cell_type": "code",
   "execution_count": 21,
   "id": "f16acbb6",
   "metadata": {
    "execution": {
     "iopub.execute_input": "2022-10-26T21:07:07.298819Z",
     "iopub.status.busy": "2022-10-26T21:07:07.298399Z",
     "iopub.status.idle": "2022-10-26T21:07:09.401687Z",
     "shell.execute_reply": "2022-10-26T21:07:09.400387Z"
    },
    "papermill": {
     "duration": 2.117404,
     "end_time": "2022-10-26T21:07:09.403705",
     "exception": false,
     "start_time": "2022-10-26T21:07:07.286301",
     "status": "completed"
    },
    "tags": []
   },
   "outputs": [
    {
     "data": {
      "text/plain": [
       "<AxesSubplot:xlabel='Month'>"
      ]
     },
     "execution_count": 21,
     "metadata": {},
     "output_type": "execute_result"
    },
    {
     "data": {
      "image/png": "[encoded data removed]",
      "text/plain": [
       "<Figure size 432x288 with 1 Axes>"
      ]
     },
     "metadata": {
      "needs_background": "light"
     },
     "output_type": "display_data"
    }
   ],
   "source": [
    "df.loc[df[\"ArrDelayGroup\"] == \"OnTimeOrSmall\"].groupby(\"Month\").mean()[\"ArrDelayMinutes\"].plot(kind=\"bar\")"
   ]
  },
  {
   "cell_type": "code",
   "execution_count": 22,
   "id": "2a2a4082",
   "metadata": {
    "execution": {
     "iopub.execute_input": "2022-10-26T21:07:09.428626Z",
     "iopub.status.busy": "2022-10-26T21:07:09.428236Z",
     "iopub.status.idle": "2022-10-26T21:07:10.114466Z",
     "shell.execute_reply": "2022-10-26T21:07:10.113596Z"
    },
    "papermill": {
     "duration": 0.701182,
     "end_time": "2022-10-26T21:07:10.116591",
     "exception": false,
     "start_time": "2022-10-26T21:07:09.415409",
     "status": "completed"
    },
    "tags": []
   },
   "outputs": [
    {
     "data": {
      "text/plain": [
       "<AxesSubplot:ylabel='Month'>"
      ]
     },
     "execution_count": 22,
     "metadata": {},
     "output_type": "execute_result"
    },
    {
     "data": {
      "image/png": "[encoded data removed]",
      "text/plain": [
       "<Figure size 432x288 with 1 Axes>"
      ]
     },
     "metadata": {
      "needs_background": "light"
     },
     "output_type": "display_data"
    }
   ],
   "source": [
    "df.loc[df[\"ArrDelayGroup\"] == \"Medium\"].groupby(\"Month\").mean()[\"ArrDelayMinutes\"].plot(kind=\"barh\")"
   ]
  },
  {
   "cell_type": "code",
   "execution_count": 23,
   "id": "13aed45f",
   "metadata": {
    "execution": {
     "iopub.execute_input": "2022-10-26T21:07:10.142563Z",
     "iopub.status.busy": "2022-10-26T21:07:10.141062Z",
     "iopub.status.idle": "2022-10-26T21:07:10.828096Z",
     "shell.execute_reply": "2022-10-26T21:07:10.827119Z"
    },
    "papermill": {
     "duration": 0.702563,
     "end_time": "2022-10-26T21:07:10.830797",
     "exception": false,
     "start_time": "2022-10-26T21:07:10.128234",
     "status": "completed"
    },
    "tags": []
   },
   "outputs": [
    {
     "data": {
      "text/plain": [
       "<AxesSubplot:ylabel='Month'>"
      ]
     },
     "execution_count": 23,
     "metadata": {},
     "output_type": "execute_result"
    },
    {
     "data": {
      "image/png": "[encoded data removed]",
      "text/plain": [
       "<Figure size 432x288 with 1 Axes>"
      ]
     },
     "metadata": {
      "needs_background": "light"
     },
     "output_type": "display_data"
    }
   ],
   "source": [
    "df.loc[df[\"ArrDelayGroup\"] == \"Long\"].groupby(\"Month\").mean()[\"ArrDelayMinutes\"].plot(kind=\"barh\")"
   ]
  },
  {
   "cell_type": "code",
   "execution_count": 24,
   "id": "03394861",
   "metadata": {
    "execution": {
     "iopub.execute_input": "2022-10-26T21:07:10.857495Z",
     "iopub.status.busy": "2022-10-26T21:07:10.857121Z",
     "iopub.status.idle": "2022-10-26T21:07:11.520121Z",
     "shell.execute_reply": "2022-10-26T21:07:11.518470Z"
    },
    "papermill": {
     "duration": 0.679123,
     "end_time": "2022-10-26T21:07:11.522640",
     "exception": false,
     "start_time": "2022-10-26T21:07:10.843517",
     "status": "completed"
    },
    "tags": []
   },
   "outputs": [
    {
     "data": {
      "text/plain": [
       "<AxesSubplot:ylabel='Month'>"
      ]
     },
     "execution_count": 24,
     "metadata": {},
     "output_type": "execute_result"
    },
    {
     "data": {
      "image/png": "[encoded data removed]",
      "text/plain": [
       "<Figure size 432x288 with 1 Axes>"
      ]
     },
     "metadata": {
      "needs_background": "light"
     },
     "output_type": "display_data"
    }
   ],
   "source": [
    "df.groupby(\"Month\").mean()[\"DepDelayMinutes\"].plot(kind=\"barh\")"
   ]
  },
  {
   "cell_type": "code",
   "execution_count": 25,
   "id": "f2b46178",
   "metadata": {
    "execution": {
     "iopub.execute_input": "2022-10-26T21:07:11.548058Z",
     "iopub.status.busy": "2022-10-26T21:07:11.547649Z",
     "iopub.status.idle": "2022-10-26T21:07:12.222488Z",
     "shell.execute_reply": "2022-10-26T21:07:12.221588Z"
    },
    "papermill": {
     "duration": 0.689909,
     "end_time": "2022-10-26T21:07:12.224640",
     "exception": false,
     "start_time": "2022-10-26T21:07:11.534731",
     "status": "completed"
    },
    "tags": []
   },
   "outputs": [
    {
     "data": {
      "text/plain": [
       "<AxesSubplot:xlabel='ArrDelayGroup'>"
      ]
     },
     "execution_count": 25,
     "metadata": {},
     "output_type": "execute_result"
    },
    {
     "data": {
      "image/png": "[encoded data removed]",
      "text/plain": [
       "<Figure size 432x288 with 1 Axes>"
      ]
     },
     "metadata": {
      "needs_background": "light"
     },
     "output_type": "display_data"
    }
   ],
   "source": [
    "df.groupby(\"ArrDelayGroup\")[\"ArrDelayGroup\"].size().plot(kind='bar')"
   ]
  },
  {
   "cell_type": "code",
   "execution_count": 26,
   "id": "e7d0c155",
   "metadata": {
    "execution": {
     "iopub.execute_input": "2022-10-26T21:07:12.258759Z",
     "iopub.status.busy": "2022-10-26T21:07:12.258236Z",
     "iopub.status.idle": "2022-10-26T21:07:12.812125Z",
     "shell.execute_reply": "2022-10-26T21:07:12.811363Z"
    },
    "papermill": {
     "duration": 0.572863,
     "end_time": "2022-10-26T21:07:12.813924",
     "exception": false,
     "start_time": "2022-10-26T21:07:12.241061",
     "status": "completed"
    },
    "tags": []
   },
   "outputs": [
    {
     "data": {
      "text/plain": [
       "<AxesSubplot:xlabel='DepDelayGroup'>"
      ]
     },
     "execution_count": 26,
     "metadata": {},
     "output_type": "execute_result"
    },
    {
     "data": {
      "image/png": "[encoded data removed]",
      "text/plain": [
       "<Figure size 432x288 with 1 Axes>"
      ]
     },
     "metadata": {
      "needs_background": "light"
     },
     "output_type": "display_data"
    }
   ],
   "source": [
    "df.groupby(\"DepDelayGroup\")[\"DepDelayGroup\"].size().plot(kind='bar')"
   ]
  },
  {
   "cell_type": "code",
   "execution_count": null,
   "id": "62609308",
   "metadata": {
    "papermill": {
     "duration": 0.012947,
     "end_time": "2022-10-26T21:07:12.843015",
     "exception": false,
     "start_time": "2022-10-26T21:07:12.830068",
     "status": "completed"
    },
    "tags": []
   },
   "outputs": [],
   "source": []
  }
 ],
 "metadata": {
  "kernelspec": {
   "display_name": "Python 3",
   "language": "python",
   "name": "python3"
  },
  "language_info": {
   "codemirror_mode": {
    "name": "ipython",
    "version": 3
   },
   "file_extension": ".py",
   "mimetype": "text/x-python",
   "name": "python",
   "nbconvert_exporter": "python",
   "pygments_lexer": "ipython3",
   "version": "3.7.12"
  },
  "papermill": {
   "default_parameters": {},
   "duration": 35.308546,
   "end_time": "2022-10-26T21:07:13.678298",
   "environment_variables": {},
   "exception": null,
   "input_path": "__notebook__.ipynb",
   "output_path": "__notebook__.ipynb",
   "parameters": {},
   "start_time": "2022-10-26T21:06:38.369752",
   "version": "2.3.4"
  }
 },
 "nbformat": 4,
 "nbformat_minor": 5
}
